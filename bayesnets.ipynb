{
  "cells": [
    {
      "cell_type": "markdown",
      "metadata": {
        "id": "Bz_k0bL20CnW"
      },
      "source": [
        "# Probability\n",
        "\n",
        "This IPy notebook acts as supporting material for topics covered in **Chapter 13 Quantifying Uncertainty**, **Chapter 14 Probabilistic Reasoning**, **Chapter 15 Probabilistic Reasoning over Time**, **Chapter 16 Making Simple Decisions** and parts of **Chapter 25 Robotics** of the book* Artificial Intelligence: A Modern Approach*. This notebook makes use of the implementations in probability.py module. Let us import everything from the probability module. It might be helpful to view the source of some of our implementations. Please refer to the Introductory IPy file for more details on how to do so."
      ]
    },
    {
      "cell_type": "code",
      "execution_count": 1,
      "metadata": {
        "id": "FsOPK-fY0CnY"
      },
      "outputs": [],
      "source": [
        "from collections import defaultdict\n",
        "import numpy as np"
      ]
    },
    {
      "cell_type": "markdown",
      "metadata": {
        "id": "MT4Uh5HY0CnZ"
      },
      "source": [
        "## CONTENTS\n",
        "- Probability Distribution\n",
        "    - Joint probability distribution\n",
        "    - Inference using full joint distributions\n",
        "<br>\n",
        "- Bayesian Networks\n",
        "    - BayesNode\n",
        "    - BayesNet\n",
        "    - Exact Inference in Bayesian Networks\n",
        "        - Enumeration\n",
        "        - Variable elimination\n",
        "    - Approximate Inference in Bayesian Networks\n",
        "        - Prior sample\n",
        "        - Rejection sampling\n",
        "        - Likelihood weighting\n",
        "        - Gibbs sampling"
      ]
    },
    {
      "cell_type": "markdown",
      "metadata": {
        "id": "hpFr3pV00CnZ"
      },
      "source": [
        "## PROBABILITY DISTRIBUTION\n",
        "\n",
        "Let us begin by specifying discrete probability distributions. The class **ProbDist** defines a discrete probability distribution. We name our random variable and then assign probabilities to the different values of the random variable. Assigning probabilities to the values works similar to that of using a dictionary with keys being the Value and we assign to it the probability. This is possible because of the magic methods **_ _getitem_ _**  and **_ _setitem_ _** which store the probabilities in the prob dict of the object. You can keep the source window open alongside while playing with the rest of the code to get a better understanding."
      ]
    },
    {
      "cell_type": "code",
      "execution_count": 3,
      "metadata": {
        "id": "82saOMGW0CnZ"
      },
      "outputs": [],
      "source": [
        "class ProbDist:\n",
        "    \"\"\"A discrete probability distribution. You name the random variable\n",
        "    in the constructor, then assign and query probability of values.\n",
        "    >>> P = ProbDist('Flip'); P['H'], P['T'] = 0.25, 0.75; P['H']\n",
        "    0.25\n",
        "    >>> P = ProbDist('X', {'lo': 125, 'med': 375, 'hi': 500})\n",
        "    >>> P['lo'], P['med'], P['hi']\n",
        "    (0.125, 0.375, 0.5)\n",
        "    \"\"\"\n",
        "\n",
        "    def __init__(self, varname='?', freqs=None):\n",
        "        \"\"\"If freqs is given, it is a dictionary of values - frequency pairs,\n",
        "        then ProbDist is normalized.\"\"\"\n",
        "        self.prob = {}\n",
        "        self.varname = varname\n",
        "        self.values = []\n",
        "        if freqs:\n",
        "            for (v, p) in freqs.items():\n",
        "                self[v] = p\n",
        "            self.normalize()\n",
        "\n",
        "    def __getitem__(self, val):\n",
        "        \"\"\"Given a value, return P(value).\"\"\"\n",
        "        try:\n",
        "            return self.prob[val]\n",
        "        except KeyError:\n",
        "            return 0\n",
        "\n",
        "    def __setitem__(self, val, p):\n",
        "        \"\"\"Set P(val) = p.\"\"\"\n",
        "        if val not in self.values:\n",
        "            self.values.append(val)\n",
        "        self.prob[val] = p\n",
        "\n",
        "    def normalize(self):\n",
        "        \"\"\"Make sure the probabilities of all values sum to 1.\n",
        "        Returns the normalized distribution.\n",
        "        Raises a ZeroDivisionError if the sum of the values is 0.\"\"\"\n",
        "        total = sum(self.prob.values())\n",
        "        if not np.isclose(total, 1.0):\n",
        "            for val in self.prob:\n",
        "                self.prob[val] /= total\n",
        "        return self\n",
        "\n",
        "    def show_approx(self, numfmt='{:.3g}'):\n",
        "        \"\"\"Show the probabilities rounded and sorted by key, for the\n",
        "        sake of portable doctests.\"\"\"\n",
        "        return ', '.join([('{}: ' + numfmt).format(v, p)\n",
        "                          for (v, p) in sorted(self.prob.items())])\n",
        "\n",
        "    def __repr__(self):\n",
        "        return \"P({})\".format(self.varname)"
      ]
    },
    {
      "cell_type": "code",
      "execution_count": 4,
      "metadata": {
        "colab": {
          "base_uri": "https://localhost:8080/"
        },
        "id": "J1yVoVBc0CnZ",
        "outputId": "54729580-e7d0-4c05-8503-4e2756c82bed"
      },
      "outputs": [
        {
          "output_type": "execute_result",
          "data": {
            "text/plain": [
              "0.75"
            ]
          },
          "metadata": {},
          "execution_count": 4
        }
      ],
      "source": [
        "p = ProbDist('Flip')\n",
        "p['H'], p['T'] = 0.25, 0.75\n",
        "p['T']"
      ]
    },
    {
      "cell_type": "markdown",
      "metadata": {
        "id": "gvwit9dy0CnZ"
      },
      "source": [
        "The first parameter of the constructor **varname** has a default value of '?'. So if the name is not passed it defaults to ?. The keyword argument **freqs** can be a dictionary of values of random variable: probability. These are then normalized such that the probability values sum upto 1 using the **normalize** method."
      ]
    },
    {
      "cell_type": "code",
      "execution_count": 5,
      "metadata": {
        "colab": {
          "base_uri": "https://localhost:8080/",
          "height": 35
        },
        "id": "P7ZO9hus0CnZ",
        "outputId": "9244f93f-5cc6-4613-c4b2-c3fd42062285"
      },
      "outputs": [
        {
          "output_type": "execute_result",
          "data": {
            "text/plain": [
              "'?'"
            ],
            "application/vnd.google.colaboratory.intrinsic+json": {
              "type": "string"
            }
          },
          "metadata": {},
          "execution_count": 5
        }
      ],
      "source": [
        "p = ProbDist(freqs={'low': 125, 'medium': 375, 'high': 500})\n",
        "p.varname"
      ]
    },
    {
      "cell_type": "code",
      "execution_count": 6,
      "metadata": {
        "colab": {
          "base_uri": "https://localhost:8080/"
        },
        "id": "HkoSusMu0Cna",
        "outputId": "e7e00af3-3379-4c8e-961a-678a834b8c51"
      },
      "outputs": [
        {
          "output_type": "execute_result",
          "data": {
            "text/plain": [
              "(0.125, 0.375, 0.5)"
            ]
          },
          "metadata": {},
          "execution_count": 6
        }
      ],
      "source": [
        "(p['low'], p['medium'], p['high'])"
      ]
    },
    {
      "cell_type": "markdown",
      "metadata": {
        "id": "3oQHIuv20Cna"
      },
      "source": [
        "Besides the **prob** and **varname** the object also separately keeps track of all the values of the distribution in a list called **values**. Every time a new value is assigned a probability it is appended to this list, This is done inside the **_ _setitem_ _** method."
      ]
    },
    {
      "cell_type": "code",
      "execution_count": 7,
      "metadata": {
        "colab": {
          "base_uri": "https://localhost:8080/"
        },
        "id": "411ab9bs0Cna",
        "outputId": "bf7e3657-9506-4a8d-e3a4-ab2b759e3416"
      },
      "outputs": [
        {
          "output_type": "execute_result",
          "data": {
            "text/plain": [
              "['low', 'medium', 'high']"
            ]
          },
          "metadata": {},
          "execution_count": 7
        }
      ],
      "source": [
        "p.values"
      ]
    },
    {
      "cell_type": "markdown",
      "metadata": {
        "id": "wxuA-Q-K0Cna"
      },
      "source": [
        "The distribution by default is not normalized if values are added incrementally. We can still force normalization by invoking the **normalize** method."
      ]
    },
    {
      "cell_type": "code",
      "execution_count": 11,
      "metadata": {
        "colab": {
          "base_uri": "https://localhost:8080/"
        },
        "id": "4pZqiecB0Cna",
        "outputId": "03847378-8df8-4d00-d3bc-629ac7961276"
      },
      "outputs": [
        {
          "output_type": "execute_result",
          "data": {
            "text/plain": [
              "(50, 114, 64, 5)"
            ]
          },
          "metadata": {},
          "execution_count": 11
        }
      ],
      "source": [
        "p = ProbDist('Y')\n",
        "p['Cat'] = 50\n",
        "p['Dog'] = 114\n",
        "p['Mice'] = 64\n",
        "p['Bunny'] = 5\n",
        "(p['Cat'], p['Dog'], p['Mice'], p['Bunny'])"
      ]
    },
    {
      "cell_type": "code",
      "execution_count": 12,
      "metadata": {
        "colab": {
          "base_uri": "https://localhost:8080/"
        },
        "id": "eJ0noPz20Cnb",
        "outputId": "6b090a35-bcf6-4375-d703-775aba706686"
      },
      "outputs": [
        {
          "output_type": "execute_result",
          "data": {
            "text/plain": [
              "(0.2145922746781116,\n",
              " 0.4892703862660944,\n",
              " 0.27467811158798283,\n",
              " 0.02145922746781116)"
            ]
          },
          "metadata": {},
          "execution_count": 12
        }
      ],
      "source": [
        "p.normalize()\n",
        "(p['Cat'], p['Dog'], p['Mice'], p['Bunny'])"
      ]
    },
    {
      "cell_type": "markdown",
      "metadata": {
        "id": "L3ljisqp0Cnb"
      },
      "source": [
        "It is also possible to display the approximate values upto decimals using the **show_approx** method."
      ]
    },
    {
      "cell_type": "code",
      "execution_count": 13,
      "metadata": {
        "colab": {
          "base_uri": "https://localhost:8080/",
          "height": 35
        },
        "id": "m7W7sEy30Cnc",
        "outputId": "1c4aa95d-98b0-4425-8c5f-7bd98c3ac088"
      },
      "outputs": [
        {
          "output_type": "execute_result",
          "data": {
            "text/plain": [
              "'Bunny: 0.0215, Cat: 0.215, Dog: 0.489, Mice: 0.275'"
            ],
            "application/vnd.google.colaboratory.intrinsic+json": {
              "type": "string"
            }
          },
          "metadata": {},
          "execution_count": 13
        }
      ],
      "source": [
        "p.show_approx()"
      ]
    },
    {
      "cell_type": "markdown",
      "metadata": {
        "id": "k3OOeY0K0Cnc"
      },
      "source": [
        "## Joint Probability Distribution\n",
        "\n",
        "The helper function **event_values** returns a tuple of the values of variables in event. An event is specified by a dict where the keys are the names of variables and the corresponding values are the value of the variable. Variables are specified with a list. The ordering of the returned tuple is same as those of the variables.\n",
        "\n",
        "\n",
        "Alternatively if the event is specified by a list or tuple of equal length of the variables. Then the events tuple is returned as it is."
      ]
    },
    {
      "cell_type": "code",
      "execution_count": 14,
      "metadata": {
        "id": "bq-XeCGM0Cnc"
      },
      "outputs": [],
      "source": [
        "def event_values(event, variables):\n",
        "    \"\"\"Return a tuple of the values of variables in event.\n",
        "    >>> event_values ({'A': 10, 'B': 9, 'C': 8}, ['C', 'A'])\n",
        "    (8, 10)\n",
        "    >>> event_values ((1, 2), ['C', 'A'])\n",
        "    (1, 2)\n",
        "    \"\"\"\n",
        "    if isinstance(event, tuple) and len(event) == len(variables):\n",
        "        return event\n",
        "    else:\n",
        "        return tuple([event[var] for var in variables])"
      ]
    },
    {
      "cell_type": "code",
      "execution_count": 15,
      "metadata": {
        "colab": {
          "base_uri": "https://localhost:8080/"
        },
        "id": "DiUsyjNG0Cnc",
        "outputId": "a8fac902-69db-4437-c772-ac2806066355"
      },
      "outputs": [
        {
          "output_type": "execute_result",
          "data": {
            "text/plain": [
              "(8, 10)"
            ]
          },
          "metadata": {},
          "execution_count": 15
        }
      ],
      "source": [
        "event = {'A': 10, 'B': 9, 'C': 8}\n",
        "variables = ['C', 'A']\n",
        "event_values(event, variables)"
      ]
    },
    {
      "cell_type": "code",
      "source": [
        "event_values((1, 2), ['C', 'A'])"
      ],
      "metadata": {
        "colab": {
          "base_uri": "https://localhost:8080/"
        },
        "id": "eylZTwVj24ht",
        "outputId": "e834dba6-ce05-468c-dc93-7ec9c9afae9a"
      },
      "execution_count": 16,
      "outputs": [
        {
          "output_type": "execute_result",
          "data": {
            "text/plain": [
              "(1, 2)"
            ]
          },
          "metadata": {},
          "execution_count": 16
        }
      ]
    },
    {
      "cell_type": "markdown",
      "metadata": {
        "id": "UjayKo800Cnc"
      },
      "source": [
        "_A probability model is completely determined by the joint distribution for all of the random variables._ (**Section 13.3**) The probability module implements these as the class **JointProbDist** which inherits from the **ProbDist** class. This class specifies a discrete probability distribute over a set of variables."
      ]
    },
    {
      "cell_type": "code",
      "execution_count": 17,
      "metadata": {
        "id": "ynDYL37i0Cnc"
      },
      "outputs": [],
      "source": [
        "class JointProbDist(ProbDist):\n",
        "    \"\"\"A discrete probability distribute over a set of variables.\n",
        "    >>> P = JointProbDist(['X', 'Y']); P[1, 1] = 0.25\n",
        "    >>> P[1, 1]\n",
        "    0.25\n",
        "    >>> P[dict(X=0, Y=1)] = 0.5\n",
        "    >>> P[dict(X=0, Y=1)]\n",
        "    0.5\"\"\"\n",
        "\n",
        "    def __init__(self, variables):\n",
        "        self.prob = {}\n",
        "        self.variables = variables\n",
        "        self.vals = defaultdict(list)\n",
        "\n",
        "    def __getitem__(self, values):\n",
        "        \"\"\"Given a tuple or dict of values, return P(values).\"\"\"\n",
        "        values = event_values(values, self.variables)\n",
        "        return ProbDist.__getitem__(self, values)\n",
        "\n",
        "    def __setitem__(self, values, p):\n",
        "        \"\"\"Set P(values) = p.  Values can be a tuple or a dict; it must\n",
        "        have a value for each of the variables in the joint. Also keep track\n",
        "        of the values we have seen so far for each variable.\"\"\"\n",
        "        values = event_values(values, self.variables)\n",
        "        self.prob[values] = p\n",
        "        for var, val in zip(self.variables, values):\n",
        "            if val not in self.vals[var]:\n",
        "                self.vals[var].append(val)\n",
        "\n",
        "    def values(self, var):\n",
        "        \"\"\"Return the set of possible values for a variable.\"\"\"\n",
        "        return self.vals[var]\n",
        "\n",
        "    def __repr__(self):\n",
        "        return \"P({})\".format(self.variables)\n"
      ]
    },
    {
      "cell_type": "markdown",
      "metadata": {
        "id": "YYtCxr9Y0Cnc"
      },
      "source": [
        "Values for a Joint Distribution is a an ordered tuple in which each item corresponds to the value associate with a particular variable. For Joint Distribution of X, Y where X, Y take integer values this can be something like (18, 19).\n",
        "\n",
        "To specify a Joint distribution we first need an ordered list of variables."
      ]
    },
    {
      "cell_type": "code",
      "execution_count": 18,
      "metadata": {
        "colab": {
          "base_uri": "https://localhost:8080/"
        },
        "id": "sEAXGddx0Cnc",
        "outputId": "68fce20c-c31e-490e-e6c8-21ff87fec6c7"
      },
      "outputs": [
        {
          "output_type": "execute_result",
          "data": {
            "text/plain": [
              "P(['X', 'Y'])"
            ]
          },
          "metadata": {},
          "execution_count": 18
        }
      ],
      "source": [
        "variables = ['X', 'Y']\n",
        "j = JointProbDist(variables)\n",
        "j"
      ]
    },
    {
      "cell_type": "markdown",
      "metadata": {
        "id": "NGGurKmH0Cnd"
      },
      "source": [
        "Like the **ProbDist** class **JointProbDist** also employes magic methods to assign probability to different values.\n",
        "The probability can be assigned in either of the two formats for all possible values of the distribution. The **event_values** call inside  **_ _getitem_ _**  and **_ _setitem_ _** does the required processing to make this work."
      ]
    },
    {
      "cell_type": "code",
      "execution_count": 19,
      "metadata": {
        "colab": {
          "base_uri": "https://localhost:8080/"
        },
        "id": "gqXC1-qC0Cnd",
        "outputId": "d4d9689a-a85e-4b9a-cfe4-138260fcc2cc"
      },
      "outputs": [
        {
          "output_type": "execute_result",
          "data": {
            "text/plain": [
              "(0.2, 0.5)"
            ]
          },
          "metadata": {},
          "execution_count": 19
        }
      ],
      "source": [
        "j[1,1] = 0.2\n",
        "j[dict(X=0, Y=1)] = 0.5\n",
        "\n",
        "(j[1,1], j[0,1])"
      ]
    },
    {
      "cell_type": "markdown",
      "metadata": {
        "id": "D7D25Klu0Cnd"
      },
      "source": [
        "What about other probabilities?"
      ]
    },
    {
      "cell_type": "code",
      "execution_count": 20,
      "metadata": {
        "colab": {
          "base_uri": "https://localhost:8080/"
        },
        "id": "A8TRUOT20Cnd",
        "outputId": "f1c81c3c-f346-488e-a09f-573674997a30"
      },
      "outputs": [
        {
          "output_type": "execute_result",
          "data": {
            "text/plain": [
              "0"
            ]
          },
          "metadata": {},
          "execution_count": 20
        }
      ],
      "source": [
        "j[0,0]"
      ]
    },
    {
      "cell_type": "code",
      "source": [
        "j[1,0]"
      ],
      "metadata": {
        "colab": {
          "base_uri": "https://localhost:8080/"
        },
        "id": "Vq6xu5NH3yoS",
        "outputId": "e56f0f2f-558e-443a-a85f-afcee287d7f5"
      },
      "execution_count": 21,
      "outputs": [
        {
          "output_type": "execute_result",
          "data": {
            "text/plain": [
              "0"
            ]
          },
          "metadata": {},
          "execution_count": 21
        }
      ]
    },
    {
      "cell_type": "markdown",
      "metadata": {
        "id": "wuBsoLc30Cnd"
      },
      "source": [
        "It is also possible to list all the values for a particular variable using the **values** method."
      ]
    },
    {
      "cell_type": "code",
      "execution_count": 22,
      "metadata": {
        "colab": {
          "base_uri": "https://localhost:8080/"
        },
        "id": "rWY5VsF60Cnd",
        "outputId": "38221e86-332f-4bfc-c6d4-e6ff3b90e909"
      },
      "outputs": [
        {
          "output_type": "execute_result",
          "data": {
            "text/plain": [
              "[1, 0]"
            ]
          },
          "metadata": {},
          "execution_count": 22
        }
      ],
      "source": [
        "j.values('X')"
      ]
    },
    {
      "cell_type": "markdown",
      "metadata": {
        "id": "bfgoWuvC0Cne"
      },
      "source": [
        "## Inference Using Full Joint Distributions\n",
        "\n",
        "In this section we use Full Joint Distributions to calculate the posterior distribution given some evidence. We represent evidence by using a python dictionary with variables as dict keys and dict values representing the values.\n",
        "\n",
        "This is illustrated in **Section 13.3** of the book. The functions **enumerate_joint** and **enumerate_joint_ask** implement this functionality. Under the hood they implement **Equation 13.9** from the book.\n",
        "\n",
        "$$\\textbf{P}(X | \\textbf{e}) = \\alpha \\textbf{P}(X, \\textbf{e}) = \\alpha \\sum_{y} \\textbf{P}(X, \\textbf{e}, \\textbf{y})$$\n",
        "\n",
        "Here **α** is the normalizing factor. **X** is our query variable and **e** is the evidence. According to the equation we enumerate on the remaining variables **y** (not in evidence or query variable) i.e. all possible combinations of **y**\n",
        "\n",
        "We will be using the same example as the book. Let us create the full joint distribution from **Figure 13.3**.  "
      ]
    },
    {
      "cell_type": "code",
      "execution_count": 23,
      "metadata": {
        "id": "GLSA34W20Cne"
      },
      "outputs": [],
      "source": [
        "full_joint = JointProbDist(['Cavity', 'Toothache', 'Catch'])\n",
        "full_joint[dict(Cavity=True, Toothache=True, Catch=True)] = 0.108\n",
        "full_joint[dict(Cavity=True, Toothache=True, Catch=False)] = 0.012\n",
        "full_joint[dict(Cavity=True, Toothache=False, Catch=True)] = 0.016\n",
        "full_joint[dict(Cavity=True, Toothache=False, Catch=False)] = 0.064\n",
        "full_joint[dict(Cavity=False, Toothache=True, Catch=True)] = 0.072\n",
        "full_joint[dict(Cavity=False, Toothache=False, Catch=True)] = 0.144\n",
        "full_joint[dict(Cavity=False, Toothache=True, Catch=False)] = 0.008\n",
        "full_joint[dict(Cavity=False, Toothache=False, Catch=False)] = 0.576"
      ]
    },
    {
      "cell_type": "markdown",
      "metadata": {
        "id": "J2D5O5Wx0Cnf"
      },
      "source": [
        "Let us now look at the **enumerate_joint** function returns the sum of those entries in P consistent with e,provided variables is P's remaining variables (the ones not in e). Here, P refers to the full joint distribution. The function uses a recursive call in its implementation. The first parameter **variables** refers to remaining variables. The function in each recursive call keeps on variable constant while varying others."
      ]
    },
    {
      "cell_type": "code",
      "execution_count": 24,
      "metadata": {
        "id": "vRiW4CYN0Cnf"
      },
      "outputs": [],
      "source": [
        "def extend(s, var, val):\n",
        "    \"\"\"Copy dict s and extend it by setting var to val; return copy.\"\"\"\n",
        "    return {**s, var: val}\n",
        "\n",
        "def enumerate_joint(variables, e, P):\n",
        "    \"\"\"Return the sum of those entries in P consistent with e,\n",
        "    provided variables is P's remaining variables (the ones not in e).\"\"\"\n",
        "    if not variables:\n",
        "        return P[e]\n",
        "    Y, rest = variables[0], variables[1:]\n",
        "    return sum([enumerate_joint(rest, extend(e, Y, y), P)\n",
        "                for y in P.values(Y)])"
      ]
    },
    {
      "cell_type": "markdown",
      "metadata": {
        "id": "x_QoqkqS0Cnf"
      },
      "source": [
        "Let us assume we want to find **P(Toothache=True)**. This can be obtained by marginalization (**Equation 13.6**). We can use **enumerate_joint** to solve for this by taking Toothache=True as our evidence. **enumerate_joint** will return the sum of probabilities consistent with evidence i.e. Marginal Probability."
      ]
    },
    {
      "cell_type": "code",
      "execution_count": 25,
      "metadata": {
        "colab": {
          "base_uri": "https://localhost:8080/"
        },
        "id": "X1tiJPJg0Cnf",
        "outputId": "7a082f57-65f2-481f-ba06-7c0a1367341a"
      },
      "outputs": [
        {
          "output_type": "execute_result",
          "data": {
            "text/plain": [
              "0.19999999999999998"
            ]
          },
          "metadata": {},
          "execution_count": 25
        }
      ],
      "source": [
        "evidence = dict(Toothache=True)\n",
        "variables = ['Cavity', 'Catch'] # variables not part of evidence\n",
        "ans1 = enumerate_joint(variables, evidence, full_joint)\n",
        "ans1"
      ]
    },
    {
      "cell_type": "markdown",
      "metadata": {
        "id": "sGz4SgBI0Cng"
      },
      "source": [
        "You can verify the result from our definition of the full joint distribution. We can use the same function to find more complex probabilities like **P(Cavity=True and Toothache=True)**"
      ]
    },
    {
      "cell_type": "code",
      "execution_count": 26,
      "metadata": {
        "colab": {
          "base_uri": "https://localhost:8080/"
        },
        "id": "uk7Kf3GT0Cng",
        "outputId": "369d4201-283d-4a57-8a6b-4cb27b0f6ba4"
      },
      "outputs": [
        {
          "output_type": "execute_result",
          "data": {
            "text/plain": [
              "0.12"
            ]
          },
          "metadata": {},
          "execution_count": 26
        }
      ],
      "source": [
        "evidence = dict(Cavity=True, Toothache=True)\n",
        "variables = ['Catch'] # variables not part of evidence\n",
        "ans2 = enumerate_joint(variables, evidence, full_joint)\n",
        "ans2"
      ]
    },
    {
      "cell_type": "code",
      "execution_count": 27,
      "metadata": {
        "colab": {
          "base_uri": "https://localhost:8080/"
        },
        "id": "kS8hlnvn0Cng",
        "outputId": "ae233540-2b91-44ea-c440-828d99606924"
      },
      "outputs": [
        {
          "output_type": "execute_result",
          "data": {
            "text/plain": [
              "P(['Cavity', 'Toothache', 'Catch'])"
            ]
          },
          "metadata": {},
          "execution_count": 27
        }
      ],
      "source": [
        "full_joint"
      ]
    },
    {
      "cell_type": "code",
      "execution_count": 28,
      "metadata": {
        "colab": {
          "base_uri": "https://localhost:8080/"
        },
        "id": "bNGtVctF0Cnh",
        "outputId": "4b03517b-c036-4325-b7fc-ab415442f1ef"
      },
      "outputs": [
        {
          "output_type": "execute_result",
          "data": {
            "text/plain": [
              "[True, False]"
            ]
          },
          "metadata": {},
          "execution_count": 28
        }
      ],
      "source": [
        "full_joint.values('Cavity')"
      ]
    },
    {
      "cell_type": "code",
      "execution_count": 29,
      "metadata": {
        "colab": {
          "base_uri": "https://localhost:8080/"
        },
        "id": "ji506OY_0Cnh",
        "outputId": "a057274c-b2bc-4c54-b8ee-89a614cdd4e9"
      },
      "outputs": [
        {
          "output_type": "execute_result",
          "data": {
            "text/plain": [
              "0.108"
            ]
          },
          "metadata": {},
          "execution_count": 29
        }
      ],
      "source": [
        "full_joint[dict(Toothache=True, Cavity=True, Catch=True)]"
      ]
    },
    {
      "cell_type": "code",
      "execution_count": 32,
      "metadata": {
        "colab": {
          "base_uri": "https://localhost:8080/"
        },
        "id": "fxeU71zy0Cnh",
        "outputId": "c5fa78d4-7fbc-487b-d232-b59608fcf680"
      },
      "outputs": [
        {
          "output_type": "execute_result",
          "data": {
            "text/plain": [
              "0.064"
            ]
          },
          "metadata": {},
          "execution_count": 32
        }
      ],
      "source": [
        "full_joint[dict(Toothache=False, Cavity=True, Catch=False)]"
      ]
    },
    {
      "cell_type": "markdown",
      "metadata": {
        "id": "GcZQ7nv90Cnh"
      },
      "source": [
        "Being able to find sum of probabilities satisfying given evidence allows us to compute conditional probabilities like **P(Cavity=True | Toothache=True)** as we can rewrite this as $$P(Cavity=True | Toothache = True) = \\frac{P(Cavity=True \\ and \\ Toothache=True)}{P(Toothache=True)}$$\n",
        "\n",
        "We have already calculated both the numerator and denominator."
      ]
    },
    {
      "cell_type": "code",
      "execution_count": 33,
      "metadata": {
        "colab": {
          "base_uri": "https://localhost:8080/"
        },
        "id": "isRORtDv0Cni",
        "outputId": "09ec1058-05a5-4f76-b0a2-78a8e2b4e557"
      },
      "outputs": [
        {
          "output_type": "execute_result",
          "data": {
            "text/plain": [
              "0.6"
            ]
          },
          "metadata": {},
          "execution_count": 33
        }
      ],
      "source": [
        "ans2/ans1"
      ]
    },
    {
      "cell_type": "code",
      "execution_count": 34,
      "metadata": {
        "colab": {
          "base_uri": "https://localhost:8080/"
        },
        "id": "vI2nVieI0Cni",
        "outputId": "eeda07be-b662-4009-c879-0e96a66692a4"
      },
      "outputs": [
        {
          "output_type": "execute_result",
          "data": {
            "text/plain": [
              "0.6"
            ]
          },
          "metadata": {},
          "execution_count": 34
        }
      ],
      "source": [
        "enumerate_joint(['Catch'], dict(Cavity=True, Toothache=True), full_joint)/enumerate_joint(['Cavity', 'Catch'], dict(Toothache=True), full_joint)"
      ]
    },
    {
      "cell_type": "markdown",
      "metadata": {
        "id": "GyZlT2tp0Cni"
      },
      "source": [
        "We might be interested in the probability distribution of a particular variable conditioned on some evidence. This can involve doing calculations like above for each possible value of the variable. This has been implemented slightly differently  using normalization in the function **enumerate_joint_ask** which returns a probability distribution over the values of the variable **X**, given the {var:val} observations **e**, in the **JointProbDist P**. The implementation of this function calls **enumerate_joint** for each value of the query variable and passes **extended evidence** with the new evidence having **X = x<sub>i</sub>**. This is followed by normalization of the obtained distribution."
      ]
    },
    {
      "cell_type": "code",
      "execution_count": 35,
      "metadata": {
        "id": "RJ-B-9f80Cni"
      },
      "outputs": [],
      "source": [
        "def enumerate_joint_ask(X, e, P):\n",
        "    \"\"\"Return a probability distribution over the values of the variable X,\n",
        "    given the {var:val} observations e, in the JointProbDist P. [Section 13.3]\n",
        "    >>> P = JointProbDist(['X', 'Y'])\n",
        "    >>> P[0,0] = 0.25; P[0,1] = 0.5; P[1,1] = P[2,1] = 0.125\n",
        "    >>> enumerate_joint_ask('X', dict(Y=1), P).show_approx()\n",
        "    '0: 0.667, 1: 0.167, 2: 0.167'\n",
        "    \"\"\"\n",
        "    assert X not in e, \"Query variable must be distinct from evidence\"\n",
        "    Q = ProbDist(X)  # probability distribution for X, initially empty\n",
        "    Y = [v for v in P.variables if v != X and v not in e]  # hidden variables.\n",
        "    for xi in P.values(X):\n",
        "        Q[xi] = enumerate_joint(Y, extend(e, X, xi), P)\n",
        "    return Q.normalize()"
      ]
    },
    {
      "cell_type": "markdown",
      "metadata": {
        "id": "TR3orvcR0Cnj"
      },
      "source": [
        "Let us find **P(Cavity | Toothache=True)** using **enumerate_joint_ask**."
      ]
    },
    {
      "cell_type": "code",
      "execution_count": 36,
      "metadata": {
        "colab": {
          "base_uri": "https://localhost:8080/"
        },
        "id": "XCcCXZd70Cnj",
        "outputId": "1eaf4708-fc06-465c-a778-6f9df66cd9a3"
      },
      "outputs": [
        {
          "output_type": "execute_result",
          "data": {
            "text/plain": [
              "(0.6, 0.39999999999999997)"
            ]
          },
          "metadata": {},
          "execution_count": 36
        }
      ],
      "source": [
        "query_variable = 'Cavity'\n",
        "evidence = dict(Toothache=True)\n",
        "ans = enumerate_joint_ask(query_variable, evidence, full_joint)\n",
        "(ans[True], ans[False])"
      ]
    },
    {
      "cell_type": "markdown",
      "metadata": {
        "id": "Vs8HmVzw0Cnj"
      },
      "source": [
        "You can verify that the first value is the same as we obtained earlier by manual calculation."
      ]
    },
    {
      "cell_type": "markdown",
      "metadata": {
        "id": "51tA3FoN0Cnj"
      },
      "source": [
        "## BAYESIAN NETWORKS\n",
        "\n",
        "A Bayesian network is a representation of the joint probability distribution encoding a collection of conditional independence statements.\n",
        "\n",
        "A Bayes Network is implemented as the class **BayesNet**. It consisits of a collection of nodes implemented by the class **BayesNode**. The implementation in the above mentioned classes focuses only on boolean variables. Each node is associated with a variable and it contains a **conditional probabilty table (cpt)**. The **cpt** represents the probability distribution of the variable conditioned on its parents **P(X | parents)**.\n",
        "\n",
        "Let us dive into the **BayesNode** implementation."
      ]
    },
    {
      "cell_type": "code",
      "execution_count": 37,
      "metadata": {
        "id": "YlFBlZms0Cnj"
      },
      "outputs": [],
      "source": [
        "class BayesNode:\n",
        "    \"\"\"A conditional probability distribution for a boolean variable,\n",
        "    P(X | parents). Part of a BayesNet.\"\"\"\n",
        "\n",
        "    def __init__(self, X, parents, cpt):\n",
        "        \"\"\"X is a variable name, and parents a sequence of variable\n",
        "        names or a space-separated string.  cpt, the conditional\n",
        "        probability table, takes one of these forms:\n",
        "\n",
        "        * A number, the unconditional probability P(X=true). You can\n",
        "          use this form when there are no parents.\n",
        "\n",
        "        * A dict {v: p, ...}, the conditional probability distribution\n",
        "          P(X=true | parent=v) = p. When there's just one parent.\n",
        "\n",
        "        * A dict {(v1, v2, ...): p, ...}, the distribution P(X=true |\n",
        "          parent1=v1, parent2=v2, ...) = p. Each key must have as many\n",
        "          values as there are parents. You can use this form always;\n",
        "          the first two are just conveniences.\n",
        "\n",
        "        In all cases the probability of X being false is left implicit,\n",
        "        since it follows from P(X=true).\n",
        "\n",
        "        >>> X = BayesNode('X', '', 0.2)\n",
        "        >>> Y = BayesNode('Y', 'P', {T: 0.2, F: 0.7})\n",
        "        >>> Z = BayesNode('Z', 'P Q',\n",
        "        ...    {(T, T): 0.2, (T, F): 0.3, (F, T): 0.5, (F, F): 0.7})\n",
        "        \"\"\"\n",
        "        if isinstance(parents, str):\n",
        "            parents = parents.split()\n",
        "\n",
        "        # We store the table always in the third form above.\n",
        "        if isinstance(cpt, (float, int)):  # no parents, 0-tuple\n",
        "            cpt = {(): cpt}\n",
        "        elif isinstance(cpt, dict):\n",
        "            # one parent, 1-tuple\n",
        "            if cpt and isinstance(list(cpt.keys())[0], bool):\n",
        "                cpt = {(v,): p for v, p in cpt.items()}\n",
        "\n",
        "        assert isinstance(cpt, dict)\n",
        "        for vs, p in cpt.items():\n",
        "            assert isinstance(vs, tuple) and len(vs) == len(parents)\n",
        "            assert all(isinstance(v, bool) for v in vs)\n",
        "            assert 0 <= p <= 1\n",
        "\n",
        "        self.variable = X\n",
        "        self.parents = parents\n",
        "        self.cpt = cpt\n",
        "        self.children = []\n",
        "\n",
        "    def p(self, value, event):\n",
        "        \"\"\"Return the conditional probability\n",
        "        P(X=value | parents=parent_values), where parent_values\n",
        "        are the values of parents in event. (event must assign each\n",
        "        parent a value.)\n",
        "        >>> bn = BayesNode('X', 'Burglary', {T: 0.2, F: 0.625})\n",
        "        >>> bn.p(False, {'Burglary': False, 'Earthquake': True})\n",
        "        0.375\"\"\"\n",
        "        assert isinstance(value, bool)\n",
        "        ptrue = self.cpt[event_values(event, self.parents)]\n",
        "        return ptrue if value else 1 - ptrue\n",
        "\n",
        "    def sample(self, event):\n",
        "        \"\"\"Sample from the distribution for this variable conditioned\n",
        "        on event's values for parent_variables. That is, return True/False\n",
        "        at random according with the conditional probability given the\n",
        "        parents.\"\"\"\n",
        "        return probability(self.p(True, event))\n",
        "\n",
        "    def __repr__(self):\n",
        "        return repr((self.variable, ' '.join(self.parents)))"
      ]
    },
    {
      "cell_type": "markdown",
      "metadata": {
        "id": "0FTfmOP30Cnk"
      },
      "source": [
        "The constructor takes in the name of **variable**, **parents** and **cpt**. Here **variable** is a the name of the variable like 'Earthquake'. **parents** should a list or space separate string with variable names of parents. The conditional probability table is a dict {(v1, v2, ...): p, ...}, the distribution P(X=true | parent1=v1, parent2=v2, ...) = p. Here the keys are combination of boolean values that the parents take. The length and order of the values in keys should be same as the supplied **parent** list/string. In all cases the probability of X being false is left implicit, since it follows from P(X=true).\n",
        "\n",
        "The example below where we implement the network shown in **Figure 14.3** of the book will make this more clear.\n",
        "\n",
        "![img](data:image/png;base64,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)\n",
        "\n",
        "The alarm node can be made as follows:"
      ]
    },
    {
      "cell_type": "code",
      "execution_count": 38,
      "metadata": {
        "id": "57D6X0aE0Cnl"
      },
      "outputs": [],
      "source": [
        "alarm_node = BayesNode('Alarm', ['Burglary', 'Earthquake'],\n",
        "                       {(True, True): 0.95,(True, False): 0.94, (False, True): 0.29, (False, False): 0.001})"
      ]
    },
    {
      "cell_type": "markdown",
      "metadata": {
        "id": "ZVi4TuvZ0Cnl"
      },
      "source": [
        "It is possible to avoid using a tuple when there is only a single parent. So an alternative format for the **cpt** is"
      ]
    },
    {
      "cell_type": "code",
      "execution_count": 39,
      "metadata": {
        "id": "AhMheDoz0Cnm"
      },
      "outputs": [],
      "source": [
        "john_node = BayesNode('JohnCalls', ['Alarm'], {True: 0.90, False: 0.05})\n",
        "mary_node = BayesNode('MaryCalls', 'Alarm', {(True, ): 0.70, (False, ): 0.01}) # Using string for parents.\n",
        "# Equivalant to john_node definition."
      ]
    },
    {
      "cell_type": "markdown",
      "metadata": {
        "id": "gto-GtqC0Cnm"
      },
      "source": [
        "The general format used for the alarm node always holds. For nodes with no parents we can also use."
      ]
    },
    {
      "cell_type": "code",
      "execution_count": 40,
      "metadata": {
        "id": "8fv6NXgE0Cnm"
      },
      "outputs": [],
      "source": [
        "burglary_node = BayesNode('Burglary', '', 0.001)\n",
        "earthquake_node = BayesNode('Earthquake', '', 0.002)"
      ]
    },
    {
      "cell_type": "markdown",
      "metadata": {
        "id": "a0asjALp0Cnm"
      },
      "source": [
        "It is possible to use the node for lookup function using the **p** method. The method takes in two arguments **value** and **event**. Event must be a dict of the type {variable:values, ..} The value corresponds to the value of the variable we are interested in (False or True).The method returns the conditional probability **P(X=value | parents=parent_values)**, where parent_values are the values of parents in event. (event must assign each parent a value.)"
      ]
    },
    {
      "cell_type": "code",
      "execution_count": 41,
      "metadata": {
        "colab": {
          "base_uri": "https://localhost:8080/"
        },
        "id": "pcnhcDR20Cnm",
        "outputId": "fc457f17-5093-4a18-9bb9-c3d510161b6e"
      },
      "outputs": [
        {
          "output_type": "execute_result",
          "data": {
            "text/plain": [
              "0.09999999999999998"
            ]
          },
          "metadata": {},
          "execution_count": 41
        }
      ],
      "source": [
        "john_node.p(False, {'Alarm': True, 'Burglary': True}) # P(JohnCalls=False | Alarm=True)"
      ]
    },
    {
      "cell_type": "markdown",
      "metadata": {
        "id": "nnlhx_tJ0Cnm"
      },
      "source": [
        "With all the information about nodes present it is possible to construct a Bayes Network using **BayesNet**. The **BayesNet** class does not take in nodes as input but instead takes a list of **node_specs**. An entry in **node_specs** is a tuple of the parameters we use to construct a **BayesNode** namely **(X, parents, cpt)**. **node_specs** must be ordered with parents before children."
      ]
    },
    {
      "cell_type": "code",
      "execution_count": 42,
      "metadata": {
        "id": "fW5971H_0Cnn"
      },
      "outputs": [],
      "source": [
        "class BayesNet:\n",
        "    \"\"\"Bayesian network containing only boolean-variable nodes.\"\"\"\n",
        "\n",
        "    def __init__(self, node_specs=None):\n",
        "        \"\"\"Nodes must be ordered with parents before children.\"\"\"\n",
        "        self.nodes = []\n",
        "        self.variables = []\n",
        "        node_specs = node_specs or []\n",
        "        for node_spec in node_specs:\n",
        "            self.add(node_spec)\n",
        "\n",
        "    def add(self, node_spec):\n",
        "        \"\"\"Add a node to the net. Its parents must already be in the\n",
        "        net, and its variable must not.\"\"\"\n",
        "        node = BayesNode(*node_spec)\n",
        "        assert node.variable not in self.variables\n",
        "        assert all((parent in self.variables) for parent in node.parents)\n",
        "        self.nodes.append(node)\n",
        "        self.variables.append(node.variable)\n",
        "        for parent in node.parents:\n",
        "            self.variable_node(parent).children.append(node)\n",
        "\n",
        "    def variable_node(self, var):\n",
        "        \"\"\"Return the node for the variable named var.\n",
        "        >>> burglary.variable_node('Burglary').variable\n",
        "        'Burglary'\"\"\"\n",
        "        for n in self.nodes:\n",
        "            if n.variable == var:\n",
        "                return n\n",
        "        raise Exception(\"No such variable: {}\".format(var))\n",
        "\n",
        "    def variable_values(self, var):\n",
        "        \"\"\"Return the domain of var.\"\"\"\n",
        "        return [True, False]\n",
        "\n",
        "    def __repr__(self):\n",
        "        return 'BayesNet({0!r})'.format(self.nodes)"
      ]
    },
    {
      "cell_type": "markdown",
      "metadata": {
        "id": "Nvw5lD870Cnn"
      },
      "source": [
        "The constructor of **BayesNet** takes each item in **node_specs** and adds a **BayesNode** to its **nodes** object variable by calling the **add** method. **add** in turn adds  node to the net. Its parents must already be in the net, and its variable must not. Thus add allows us to grow a **BayesNet** given its parents are already present.\n",
        "\n",
        "**burglary** global is an instance of **BayesNet** corresponding to the above example.\n",
        "\n",
        "    T, F = True, False\n",
        "\n",
        "    burglary = BayesNet([\n",
        "        ('Burglary', '', 0.001),\n",
        "        ('Earthquake', '', 0.002),\n",
        "        ('Alarm', 'Burglary Earthquake',\n",
        "         {(T, T): 0.95, (T, F): 0.94, (F, T): 0.29, (F, F): 0.001}),\n",
        "        ('JohnCalls', 'Alarm', {T: 0.90, F: 0.05}),\n",
        "        ('MaryCalls', 'Alarm', {T: 0.70, F: 0.01})\n",
        "    ])"
      ]
    },
    {
      "cell_type": "code",
      "execution_count": 43,
      "metadata": {
        "id": "5pBLyBr50Cnn"
      },
      "outputs": [],
      "source": [
        "T, F = True, False\n",
        "\n",
        "burglary = BayesNet([\n",
        "    ('Burglary', '', 0.001),\n",
        "    ('Earthquake', '', 0.002),\n",
        "    ('Alarm', 'Burglary Earthquake',\n",
        "     {(T, T): 0.95, (T, F): 0.94, (F, T): 0.29, (F, F): 0.001}),\n",
        "    ('JohnCalls', 'Alarm', {T: 0.90, F: 0.05}),\n",
        "    ('MaryCalls', 'Alarm', {T: 0.70, F: 0.01})\n",
        "])"
      ]
    },
    {
      "cell_type": "code",
      "execution_count": 44,
      "metadata": {
        "colab": {
          "base_uri": "https://localhost:8080/"
        },
        "id": "N_DMYplR0Cnn",
        "outputId": "cf41d3e5-b24e-462b-cc14-a684e4c12183"
      },
      "outputs": [
        {
          "output_type": "execute_result",
          "data": {
            "text/plain": [
              "BayesNet([('Burglary', ''), ('Earthquake', ''), ('Alarm', 'Burglary Earthquake'), ('JohnCalls', 'Alarm'), ('MaryCalls', 'Alarm')])"
            ]
          },
          "metadata": {},
          "execution_count": 44
        }
      ],
      "source": [
        "burglary"
      ]
    },
    {
      "cell_type": "markdown",
      "metadata": {
        "id": "zTDYfTor0Cnn"
      },
      "source": [
        "**BayesNet** method **variable_node** allows to reach **BayesNode** instances inside a Bayes Net. It is possible to modify the **cpt** of the nodes directly using this method."
      ]
    },
    {
      "cell_type": "code",
      "execution_count": 45,
      "metadata": {
        "colab": {
          "base_uri": "https://localhost:8080/",
          "height": 121
        },
        "id": "aA249Rrm0Cnn",
        "outputId": "6b6c8c9a-1642-4ca7-a94e-c6b2e7cb71ab"
      },
      "outputs": [
        {
          "output_type": "execute_result",
          "data": {
            "text/plain": [
              "__main__.BayesNode"
            ],
            "text/html": [
              "<div style=\"max-width:800px; border: 1px solid var(--colab-border-color);\"><style>\n",
              "      pre.function-repr-contents {\n",
              "        overflow-x: auto;\n",
              "        padding: 8px 12px;\n",
              "        max-height: 500px;\n",
              "      }\n",
              "\n",
              "      pre.function-repr-contents.function-repr-contents-collapsed {\n",
              "        cursor: pointer;\n",
              "        max-height: 100px;\n",
              "      }\n",
              "    </style>\n",
              "    <pre style=\"white-space: initial; background:\n",
              "         var(--colab-secondary-surface-color); padding: 8px 12px;\n",
              "         border-bottom: 1px solid var(--colab-border-color);\"><b>BayesNode</b><br/>def __init__(X, parents, cpt)</pre><pre class=\"function-repr-contents function-repr-contents-collapsed\" style=\"\"><a class=\"filepath\" style=\"display:none\" href=\"#\"></a>A conditional probability distribution for a boolean variable,\n",
              "P(X | parents). Part of a BayesNet.</pre></div>"
            ]
          },
          "metadata": {},
          "execution_count": 45
        }
      ],
      "source": [
        "type(burglary.variable_node('Alarm'))"
      ]
    },
    {
      "cell_type": "code",
      "execution_count": 46,
      "metadata": {
        "colab": {
          "base_uri": "https://localhost:8080/"
        },
        "id": "kA6yr-Rk0Cno",
        "outputId": "8c422700-3d9d-434e-d8df-3dcad9762fc8"
      },
      "outputs": [
        {
          "output_type": "execute_result",
          "data": {
            "text/plain": [
              "{(True, True): 0.95,\n",
              " (True, False): 0.94,\n",
              " (False, True): 0.29,\n",
              " (False, False): 0.001}"
            ]
          },
          "metadata": {},
          "execution_count": 46
        }
      ],
      "source": [
        "burglary.variable_node('Alarm').cpt"
      ]
    },
    {
      "cell_type": "code",
      "source": [
        "!apt-get install texlive texlive-xetex texlive-latex-extra pandoc\n",
        "!pip install pypandoc"
      ],
      "metadata": {
        "id": "rV-9XV_b8uB4",
        "outputId": "4f4af043-136b-45f6-9026-db947324931a",
        "colab": {
          "base_uri": "https://localhost:8080/"
        }
      },
      "execution_count": 47,
      "outputs": [
        {
          "output_type": "stream",
          "name": "stdout",
          "text": [
            "Reading package lists... Done\n",
            "Building dependency tree... Done\n",
            "Reading state information... Done\n",
            "The following additional packages will be installed:\n",
            "  dvisvgm fonts-droid-fallback fonts-lato fonts-lmodern fonts-noto-mono fonts-texgyre\n",
            "  fonts-urw-base35 libapache-pom-java libcmark-gfm-extensions0.29.0.gfm.3 libcmark-gfm0.29.0.gfm.3\n",
            "  libcommons-logging-java libcommons-parent-java libfontbox-java libfontenc1 libgs9 libgs9-common\n",
            "  libidn12 libijs-0.35 libjbig2dec0 libkpathsea6 libpdfbox-java libptexenc1 libruby3.0 libsynctex2\n",
            "  libteckit0 libtexlua53 libtexluajit2 libwoff1 libzzip-0-13 lmodern pandoc-data poppler-data\n",
            "  preview-latex-style rake ruby ruby-net-telnet ruby-rubygems ruby-webrick ruby-xmlrpc ruby3.0\n",
            "  rubygems-integration t1utils teckit tex-common tex-gyre texlive-base texlive-binaries\n",
            "  texlive-fonts-recommended texlive-latex-base texlive-latex-recommended texlive-pictures\n",
            "  texlive-plain-generic tipa xfonts-encodings xfonts-utils\n",
            "Suggested packages:\n",
            "  fonts-noto fonts-freefont-otf | fonts-freefont-ttf libavalon-framework-java\n",
            "  libcommons-logging-java-doc libexcalibur-logkit-java liblog4j1.2-java texlive-luatex\n",
            "  pandoc-citeproc context wkhtmltopdf librsvg2-bin groff ghc nodejs php python libjs-mathjax\n",
            "  libjs-katex citation-style-language-styles poppler-utils ghostscript fonts-japanese-mincho\n",
            "  | fonts-ipafont-mincho fonts-japanese-gothic | fonts-ipafont-gothic fonts-arphic-ukai\n",
            "  fonts-arphic-uming fonts-nanum ri ruby-dev bundler debhelper gv | postscript-viewer perl-tk xpdf\n",
            "  | pdf-viewer xzdec texlive-fonts-recommended-doc texlive-latex-base-doc python3-pygments\n",
            "  icc-profiles libfile-which-perl libspreadsheet-parseexcel-perl texlive-latex-extra-doc\n",
            "  texlive-latex-recommended-doc texlive-pstricks dot2tex prerex texlive-pictures-doc vprerex\n",
            "  default-jre-headless tipa-doc\n",
            "The following NEW packages will be installed:\n",
            "  dvisvgm fonts-droid-fallback fonts-lato fonts-lmodern fonts-noto-mono fonts-texgyre\n",
            "  fonts-urw-base35 libapache-pom-java libcmark-gfm-extensions0.29.0.gfm.3 libcmark-gfm0.29.0.gfm.3\n",
            "  libcommons-logging-java libcommons-parent-java libfontbox-java libfontenc1 libgs9 libgs9-common\n",
            "  libidn12 libijs-0.35 libjbig2dec0 libkpathsea6 libpdfbox-java libptexenc1 libruby3.0 libsynctex2\n",
            "  libteckit0 libtexlua53 libtexluajit2 libwoff1 libzzip-0-13 lmodern pandoc pandoc-data\n",
            "  poppler-data preview-latex-style rake ruby ruby-net-telnet ruby-rubygems ruby-webrick ruby-xmlrpc\n",
            "  ruby3.0 rubygems-integration t1utils teckit tex-common tex-gyre texlive texlive-base\n",
            "  texlive-binaries texlive-fonts-recommended texlive-latex-base texlive-latex-extra\n",
            "  texlive-latex-recommended texlive-pictures texlive-plain-generic texlive-xetex tipa\n",
            "  xfonts-encodings xfonts-utils\n",
            "0 upgraded, 59 newly installed, 0 to remove and 29 not upgraded.\n",
            "Need to get 202 MB of archives.\n",
            "After this operation, 728 MB of additional disk space will be used.\n",
            "Get:1 http://archive.ubuntu.com/ubuntu jammy/main amd64 fonts-droid-fallback all 1:6.0.1r16-1.1build1 [1,805 kB]\n",
            "Get:2 http://archive.ubuntu.com/ubuntu jammy/main amd64 fonts-lato all 2.0-2.1 [2,696 kB]\n",
            "Get:3 http://archive.ubuntu.com/ubuntu jammy/main amd64 poppler-data all 0.4.11-1 [2,171 kB]\n",
            "Get:4 http://archive.ubuntu.com/ubuntu jammy/universe amd64 tex-common all 6.17 [33.7 kB]\n",
            "Get:5 http://archive.ubuntu.com/ubuntu jammy/main amd64 fonts-urw-base35 all 20200910-1 [6,367 kB]\n",
            "Get:6 http://archive.ubuntu.com/ubuntu jammy-updates/main amd64 libgs9-common all 9.55.0~dfsg1-0ubuntu5.10 [752 kB]\n",
            "Get:7 http://archive.ubuntu.com/ubuntu jammy-updates/main amd64 libidn12 amd64 1.38-4ubuntu1 [60.0 kB]\n",
            "Get:8 http://archive.ubuntu.com/ubuntu jammy/main amd64 libijs-0.35 amd64 0.35-15build2 [16.5 kB]\n",
            "Get:9 http://archive.ubuntu.com/ubuntu jammy/main amd64 libjbig2dec0 amd64 0.19-3build2 [64.7 kB]\n",
            "Get:10 http://archive.ubuntu.com/ubuntu jammy-updates/main amd64 libgs9 amd64 9.55.0~dfsg1-0ubuntu5.10 [5,031 kB]\n",
            "Get:11 http://archive.ubuntu.com/ubuntu jammy-updates/main amd64 libkpathsea6 amd64 2021.20210626.59705-1ubuntu0.2 [60.4 kB]\n",
            "Get:12 http://archive.ubuntu.com/ubuntu jammy/main amd64 libwoff1 amd64 1.0.2-1build4 [45.2 kB]\n",
            "Get:13 http://archive.ubuntu.com/ubuntu jammy/universe amd64 dvisvgm amd64 2.13.1-1 [1,221 kB]\n",
            "Get:14 http://archive.ubuntu.com/ubuntu jammy/universe amd64 fonts-lmodern all 2.004.5-6.1 [4,532 kB]\n",
            "Get:15 http://archive.ubuntu.com/ubuntu jammy/main amd64 fonts-noto-mono all 20201225-1build1 [397 kB]\n",
            "Get:16 http://archive.ubuntu.com/ubuntu jammy/universe amd64 fonts-texgyre all 20180621-3.1 [10.2 MB]\n",
            "Get:17 http://archive.ubuntu.com/ubuntu jammy/universe amd64 libapache-pom-java all 18-1 [4,720 B]\n",
            "Get:18 http://archive.ubuntu.com/ubuntu jammy/universe amd64 libcmark-gfm0.29.0.gfm.3 amd64 0.29.0.gfm.3-3 [115 kB]\n",
            "Get:19 http://archive.ubuntu.com/ubuntu jammy/universe amd64 libcmark-gfm-extensions0.29.0.gfm.3 amd64 0.29.0.gfm.3-3 [25.1 kB]\n",
            "Get:20 http://archive.ubuntu.com/ubuntu jammy/universe amd64 libcommons-parent-java all 43-1 [10.8 kB]\n",
            "Get:21 http://archive.ubuntu.com/ubuntu jammy/universe amd64 libcommons-logging-java all 1.2-2 [60.3 kB]\n",
            "Get:22 http://archive.ubuntu.com/ubuntu jammy/main amd64 libfontenc1 amd64 1:1.1.4-1build3 [14.7 kB]\n",
            "Get:23 http://archive.ubuntu.com/ubuntu jammy-updates/main amd64 libptexenc1 amd64 2021.20210626.59705-1ubuntu0.2 [39.1 kB]\n",
            "Get:24 http://archive.ubuntu.com/ubuntu jammy/main amd64 rubygems-integration all 1.18 [5,336 B]\n",
            "Get:25 http://archive.ubuntu.com/ubuntu jammy-updates/main amd64 ruby3.0 amd64 3.0.2-7ubuntu2.8 [50.1 kB]\n",
            "Get:26 http://archive.ubuntu.com/ubuntu jammy/main amd64 ruby-rubygems all 3.3.5-2 [228 kB]\n",
            "Get:27 http://archive.ubuntu.com/ubuntu jammy/main amd64 ruby amd64 1:3.0~exp1 [5,100 B]\n",
            "Get:28 http://archive.ubuntu.com/ubuntu jammy/main amd64 rake all 13.0.6-2 [61.7 kB]\n",
            "Get:29 http://archive.ubuntu.com/ubuntu jammy/main amd64 ruby-net-telnet all 0.1.1-2 [12.6 kB]\n",
            "Get:30 http://archive.ubuntu.com/ubuntu jammy-updates/main amd64 ruby-webrick all 1.7.0-3ubuntu0.1 [52.1 kB]\n",
            "Get:31 http://archive.ubuntu.com/ubuntu jammy-updates/main amd64 ruby-xmlrpc all 0.3.2-1ubuntu0.1 [24.9 kB]\n",
            "Get:32 http://archive.ubuntu.com/ubuntu jammy-updates/main amd64 libruby3.0 amd64 3.0.2-7ubuntu2.8 [5,113 kB]\n",
            "Get:33 http://archive.ubuntu.com/ubuntu jammy-updates/main amd64 libsynctex2 amd64 2021.20210626.59705-1ubuntu0.2 [55.6 kB]\n",
            "Get:34 http://archive.ubuntu.com/ubuntu jammy/universe amd64 libteckit0 amd64 2.5.11+ds1-1 [421 kB]\n",
            "Get:35 http://archive.ubuntu.com/ubuntu jammy-updates/main amd64 libtexlua53 amd64 2021.20210626.59705-1ubuntu0.2 [120 kB]\n",
            "Get:36 http://archive.ubuntu.com/ubuntu jammy-updates/main amd64 libtexluajit2 amd64 2021.20210626.59705-1ubuntu0.2 [267 kB]\n",
            "Get:37 http://archive.ubuntu.com/ubuntu jammy/universe amd64 libzzip-0-13 amd64 0.13.72+dfsg.1-1.1 [27.0 kB]\n",
            "Get:38 http://archive.ubuntu.com/ubuntu jammy/main amd64 xfonts-encodings all 1:1.0.5-0ubuntu2 [578 kB]\n",
            "Get:39 http://archive.ubuntu.com/ubuntu jammy/main amd64 xfonts-utils amd64 1:7.7+6build2 [94.6 kB]\n",
            "Get:40 http://archive.ubuntu.com/ubuntu jammy/universe amd64 lmodern all 2.004.5-6.1 [9,471 kB]\n",
            "Get:41 http://archive.ubuntu.com/ubuntu jammy/universe amd64 pandoc-data all 2.9.2.1-3ubuntu2 [81.8 kB]\n",
            "Get:42 http://archive.ubuntu.com/ubuntu jammy/universe amd64 pandoc amd64 2.9.2.1-3ubuntu2 [20.3 MB]\n",
            "Get:43 http://archive.ubuntu.com/ubuntu jammy/universe amd64 preview-latex-style all 12.2-1ubuntu1 [185 kB]\n",
            "Get:44 http://archive.ubuntu.com/ubuntu jammy/main amd64 t1utils amd64 1.41-4build2 [61.3 kB]\n",
            "Get:45 http://archive.ubuntu.com/ubuntu jammy/universe amd64 teckit amd64 2.5.11+ds1-1 [699 kB]\n",
            "Get:46 http://archive.ubuntu.com/ubuntu jammy/universe amd64 tex-gyre all 20180621-3.1 [6,209 kB]\n",
            "Get:47 http://archive.ubuntu.com/ubuntu jammy-updates/universe amd64 texlive-binaries amd64 2021.20210626.59705-1ubuntu0.2 [9,860 kB]\n",
            "Get:48 http://archive.ubuntu.com/ubuntu jammy/universe amd64 texlive-base all 2021.20220204-1 [21.0 MB]\n",
            "Get:49 http://archive.ubuntu.com/ubuntu jammy/universe amd64 texlive-fonts-recommended all 2021.20220204-1 [4,972 kB]\n",
            "Get:50 http://archive.ubuntu.com/ubuntu jammy/universe amd64 texlive-latex-base all 2021.20220204-1 [1,128 kB]\n",
            "Get:51 http://archive.ubuntu.com/ubuntu jammy/universe amd64 texlive-latex-recommended all 2021.20220204-1 [14.4 MB]\n",
            "Get:52 http://archive.ubuntu.com/ubuntu jammy/universe amd64 texlive all 2021.20220204-1 [14.3 kB]\n",
            "Get:53 http://archive.ubuntu.com/ubuntu jammy/universe amd64 libfontbox-java all 1:1.8.16-2 [207 kB]\n",
            "Get:54 http://archive.ubuntu.com/ubuntu jammy/universe amd64 libpdfbox-java all 1:1.8.16-2 [5,199 kB]\n",
            "Get:55 http://archive.ubuntu.com/ubuntu jammy/universe amd64 texlive-pictures all 2021.20220204-1 [8,720 kB]\n",
            "Get:56 http://archive.ubuntu.com/ubuntu jammy/universe amd64 texlive-latex-extra all 2021.20220204-1 [13.9 MB]\n",
            "Get:57 http://archive.ubuntu.com/ubuntu jammy/universe amd64 texlive-plain-generic all 2021.20220204-1 [27.5 MB]\n",
            "Get:58 http://archive.ubuntu.com/ubuntu jammy/universe amd64 tipa all 2:1.3-21 [2,967 kB]\n",
            "Get:59 http://archive.ubuntu.com/ubuntu jammy/universe amd64 texlive-xetex all 2021.20220204-1 [12.4 MB]\n",
            "Fetched 202 MB in 3s (79.0 MB/s)\n",
            "Extracting templates from packages: 100%\n",
            "Preconfiguring packages ...\n",
            "Selecting previously unselected package fonts-droid-fallback.\n",
            "(Reading database ... 124947 files and directories currently installed.)\n",
            "Preparing to unpack .../00-fonts-droid-fallback_1%3a6.0.1r16-1.1build1_all.deb ...\n",
            "Unpacking fonts-droid-fallback (1:6.0.1r16-1.1build1) ...\n",
            "Selecting previously unselected package fonts-lato.\n",
            "Preparing to unpack .../01-fonts-lato_2.0-2.1_all.deb ...\n",
            "Unpacking fonts-lato (2.0-2.1) ...\n",
            "Selecting previously unselected package poppler-data.\n",
            "Preparing to unpack .../02-poppler-data_0.4.11-1_all.deb ...\n",
            "Unpacking poppler-data (0.4.11-1) ...\n",
            "Selecting previously unselected package tex-common.\n",
            "Preparing to unpack .../03-tex-common_6.17_all.deb ...\n",
            "Unpacking tex-common (6.17) ...\n",
            "Selecting previously unselected package fonts-urw-base35.\n",
            "Preparing to unpack .../04-fonts-urw-base35_20200910-1_all.deb ...\n",
            "Unpacking fonts-urw-base35 (20200910-1) ...\n",
            "Selecting previously unselected package libgs9-common.\n",
            "Preparing to unpack .../05-libgs9-common_9.55.0~dfsg1-0ubuntu5.10_all.deb ...\n",
            "Unpacking libgs9-common (9.55.0~dfsg1-0ubuntu5.10) ...\n",
            "Selecting previously unselected package libidn12:amd64.\n",
            "Preparing to unpack .../06-libidn12_1.38-4ubuntu1_amd64.deb ...\n",
            "Unpacking libidn12:amd64 (1.38-4ubuntu1) ...\n",
            "Selecting previously unselected package libijs-0.35:amd64.\n",
            "Preparing to unpack .../07-libijs-0.35_0.35-15build2_amd64.deb ...\n",
            "Unpacking libijs-0.35:amd64 (0.35-15build2) ...\n",
            "Selecting previously unselected package libjbig2dec0:amd64.\n",
            "Preparing to unpack .../08-libjbig2dec0_0.19-3build2_amd64.deb ...\n",
            "Unpacking libjbig2dec0:amd64 (0.19-3build2) ...\n",
            "Selecting previously unselected package libgs9:amd64.\n",
            "Preparing to unpack .../09-libgs9_9.55.0~dfsg1-0ubuntu5.10_amd64.deb ...\n",
            "Unpacking libgs9:amd64 (9.55.0~dfsg1-0ubuntu5.10) ...\n",
            "Selecting previously unselected package libkpathsea6:amd64.\n",
            "Preparing to unpack .../10-libkpathsea6_2021.20210626.59705-1ubuntu0.2_amd64.deb ...\n",
            "Unpacking libkpathsea6:amd64 (2021.20210626.59705-1ubuntu0.2) ...\n",
            "Selecting previously unselected package libwoff1:amd64.\n",
            "Preparing to unpack .../11-libwoff1_1.0.2-1build4_amd64.deb ...\n",
            "Unpacking libwoff1:amd64 (1.0.2-1build4) ...\n",
            "Selecting previously unselected package dvisvgm.\n",
            "Preparing to unpack .../12-dvisvgm_2.13.1-1_amd64.deb ...\n",
            "Unpacking dvisvgm (2.13.1-1) ...\n",
            "Selecting previously unselected package fonts-lmodern.\n",
            "Preparing to unpack .../13-fonts-lmodern_2.004.5-6.1_all.deb ...\n",
            "Unpacking fonts-lmodern (2.004.5-6.1) ...\n",
            "Selecting previously unselected package fonts-noto-mono.\n",
            "Preparing to unpack .../14-fonts-noto-mono_20201225-1build1_all.deb ...\n",
            "Unpacking fonts-noto-mono (20201225-1build1) ...\n",
            "Selecting previously unselected package fonts-texgyre.\n",
            "Preparing to unpack .../15-fonts-texgyre_20180621-3.1_all.deb ...\n",
            "Unpacking fonts-texgyre (20180621-3.1) ...\n",
            "Selecting previously unselected package libapache-pom-java.\n",
            "Preparing to unpack .../16-libapache-pom-java_18-1_all.deb ...\n",
            "Unpacking libapache-pom-java (18-1) ...\n",
            "Selecting previously unselected package libcmark-gfm0.29.0.gfm.3:amd64.\n",
            "Preparing to unpack .../17-libcmark-gfm0.29.0.gfm.3_0.29.0.gfm.3-3_amd64.deb ...\n",
            "Unpacking libcmark-gfm0.29.0.gfm.3:amd64 (0.29.0.gfm.3-3) ...\n",
            "Selecting previously unselected package libcmark-gfm-extensions0.29.0.gfm.3:amd64.\n",
            "Preparing to unpack .../18-libcmark-gfm-extensions0.29.0.gfm.3_0.29.0.gfm.3-3_amd64.deb ...\n",
            "Unpacking libcmark-gfm-extensions0.29.0.gfm.3:amd64 (0.29.0.gfm.3-3) ...\n",
            "Selecting previously unselected package libcommons-parent-java.\n",
            "Preparing to unpack .../19-libcommons-parent-java_43-1_all.deb ...\n",
            "Unpacking libcommons-parent-java (43-1) ...\n",
            "Selecting previously unselected package libcommons-logging-java.\n",
            "Preparing to unpack .../20-libcommons-logging-java_1.2-2_all.deb ...\n",
            "Unpacking libcommons-logging-java (1.2-2) ...\n",
            "Selecting previously unselected package libfontenc1:amd64.\n",
            "Preparing to unpack .../21-libfontenc1_1%3a1.1.4-1build3_amd64.deb ...\n",
            "Unpacking libfontenc1:amd64 (1:1.1.4-1build3) ...\n",
            "Selecting previously unselected package libptexenc1:amd64.\n",
            "Preparing to unpack .../22-libptexenc1_2021.20210626.59705-1ubuntu0.2_amd64.deb ...\n",
            "Unpacking libptexenc1:amd64 (2021.20210626.59705-1ubuntu0.2) ...\n",
            "Selecting previously unselected package rubygems-integration.\n",
            "Preparing to unpack .../23-rubygems-integration_1.18_all.deb ...\n",
            "Unpacking rubygems-integration (1.18) ...\n",
            "Selecting previously unselected package ruby3.0.\n",
            "Preparing to unpack .../24-ruby3.0_3.0.2-7ubuntu2.8_amd64.deb ...\n",
            "Unpacking ruby3.0 (3.0.2-7ubuntu2.8) ...\n",
            "Selecting previously unselected package ruby-rubygems.\n",
            "Preparing to unpack .../25-ruby-rubygems_3.3.5-2_all.deb ...\n",
            "Unpacking ruby-rubygems (3.3.5-2) ...\n",
            "Selecting previously unselected package ruby.\n",
            "Preparing to unpack .../26-ruby_1%3a3.0~exp1_amd64.deb ...\n",
            "Unpacking ruby (1:3.0~exp1) ...\n",
            "Selecting previously unselected package rake.\n",
            "Preparing to unpack .../27-rake_13.0.6-2_all.deb ...\n",
            "Unpacking rake (13.0.6-2) ...\n",
            "Selecting previously unselected package ruby-net-telnet.\n",
            "Preparing to unpack .../28-ruby-net-telnet_0.1.1-2_all.deb ...\n",
            "Unpacking ruby-net-telnet (0.1.1-2) ...\n",
            "Selecting previously unselected package ruby-webrick.\n",
            "Preparing to unpack .../29-ruby-webrick_1.7.0-3ubuntu0.1_all.deb ...\n",
            "Unpacking ruby-webrick (1.7.0-3ubuntu0.1) ...\n",
            "Selecting previously unselected package ruby-xmlrpc.\n",
            "Preparing to unpack .../30-ruby-xmlrpc_0.3.2-1ubuntu0.1_all.deb ...\n",
            "Unpacking ruby-xmlrpc (0.3.2-1ubuntu0.1) ...\n",
            "Selecting previously unselected package libruby3.0:amd64.\n",
            "Preparing to unpack .../31-libruby3.0_3.0.2-7ubuntu2.8_amd64.deb ...\n",
            "Unpacking libruby3.0:amd64 (3.0.2-7ubuntu2.8) ...\n",
            "Selecting previously unselected package libsynctex2:amd64.\n",
            "Preparing to unpack .../32-libsynctex2_2021.20210626.59705-1ubuntu0.2_amd64.deb ...\n",
            "Unpacking libsynctex2:amd64 (2021.20210626.59705-1ubuntu0.2) ...\n",
            "Selecting previously unselected package libteckit0:amd64.\n",
            "Preparing to unpack .../33-libteckit0_2.5.11+ds1-1_amd64.deb ...\n",
            "Unpacking libteckit0:amd64 (2.5.11+ds1-1) ...\n",
            "Selecting previously unselected package libtexlua53:amd64.\n",
            "Preparing to unpack .../34-libtexlua53_2021.20210626.59705-1ubuntu0.2_amd64.deb ...\n",
            "Unpacking libtexlua53:amd64 (2021.20210626.59705-1ubuntu0.2) ...\n",
            "Selecting previously unselected package libtexluajit2:amd64.\n",
            "Preparing to unpack .../35-libtexluajit2_2021.20210626.59705-1ubuntu0.2_amd64.deb ...\n",
            "Unpacking libtexluajit2:amd64 (2021.20210626.59705-1ubuntu0.2) ...\n",
            "Selecting previously unselected package libzzip-0-13:amd64.\n",
            "Preparing to unpack .../36-libzzip-0-13_0.13.72+dfsg.1-1.1_amd64.deb ...\n",
            "Unpacking libzzip-0-13:amd64 (0.13.72+dfsg.1-1.1) ...\n",
            "Selecting previously unselected package xfonts-encodings.\n",
            "Preparing to unpack .../37-xfonts-encodings_1%3a1.0.5-0ubuntu2_all.deb ...\n",
            "Unpacking xfonts-encodings (1:1.0.5-0ubuntu2) ...\n",
            "Selecting previously unselected package xfonts-utils.\n",
            "Preparing to unpack .../38-xfonts-utils_1%3a7.7+6build2_amd64.deb ...\n",
            "Unpacking xfonts-utils (1:7.7+6build2) ...\n",
            "Selecting previously unselected package lmodern.\n",
            "Preparing to unpack .../39-lmodern_2.004.5-6.1_all.deb ...\n",
            "Unpacking lmodern (2.004.5-6.1) ...\n",
            "Selecting previously unselected package pandoc-data.\n",
            "Preparing to unpack .../40-pandoc-data_2.9.2.1-3ubuntu2_all.deb ...\n",
            "Unpacking pandoc-data (2.9.2.1-3ubuntu2) ...\n",
            "Selecting previously unselected package pandoc.\n",
            "Preparing to unpack .../41-pandoc_2.9.2.1-3ubuntu2_amd64.deb ...\n",
            "Unpacking pandoc (2.9.2.1-3ubuntu2) ...\n",
            "Selecting previously unselected package preview-latex-style.\n",
            "Preparing to unpack .../42-preview-latex-style_12.2-1ubuntu1_all.deb ...\n",
            "Unpacking preview-latex-style (12.2-1ubuntu1) ...\n",
            "Selecting previously unselected package t1utils.\n",
            "Preparing to unpack .../43-t1utils_1.41-4build2_amd64.deb ...\n",
            "Unpacking t1utils (1.41-4build2) ...\n",
            "Selecting previously unselected package teckit.\n",
            "Preparing to unpack .../44-teckit_2.5.11+ds1-1_amd64.deb ...\n",
            "Unpacking teckit (2.5.11+ds1-1) ...\n",
            "Selecting previously unselected package tex-gyre.\n",
            "Preparing to unpack .../45-tex-gyre_20180621-3.1_all.deb ...\n",
            "Unpacking tex-gyre (20180621-3.1) ...\n",
            "Selecting previously unselected package texlive-binaries.\n",
            "Preparing to unpack .../46-texlive-binaries_2021.20210626.59705-1ubuntu0.2_amd64.deb ...\n",
            "Unpacking texlive-binaries (2021.20210626.59705-1ubuntu0.2) ...\n",
            "Selecting previously unselected package texlive-base.\n",
            "Preparing to unpack .../47-texlive-base_2021.20220204-1_all.deb ...\n",
            "Unpacking texlive-base (2021.20220204-1) ...\n",
            "Selecting previously unselected package texlive-fonts-recommended.\n",
            "Preparing to unpack .../48-texlive-fonts-recommended_2021.20220204-1_all.deb ...\n",
            "Unpacking texlive-fonts-recommended (2021.20220204-1) ...\n",
            "Selecting previously unselected package texlive-latex-base.\n",
            "Preparing to unpack .../49-texlive-latex-base_2021.20220204-1_all.deb ...\n",
            "Unpacking texlive-latex-base (2021.20220204-1) ...\n",
            "Selecting previously unselected package texlive-latex-recommended.\n",
            "Preparing to unpack .../50-texlive-latex-recommended_2021.20220204-1_all.deb ...\n",
            "Unpacking texlive-latex-recommended (2021.20220204-1) ...\n",
            "Selecting previously unselected package texlive.\n",
            "Preparing to unpack .../51-texlive_2021.20220204-1_all.deb ...\n",
            "Unpacking texlive (2021.20220204-1) ...\n",
            "Selecting previously unselected package libfontbox-java.\n",
            "Preparing to unpack .../52-libfontbox-java_1%3a1.8.16-2_all.deb ...\n",
            "Unpacking libfontbox-java (1:1.8.16-2) ...\n",
            "Selecting previously unselected package libpdfbox-java.\n",
            "Preparing to unpack .../53-libpdfbox-java_1%3a1.8.16-2_all.deb ...\n",
            "Unpacking libpdfbox-java (1:1.8.16-2) ...\n",
            "Selecting previously unselected package texlive-pictures.\n",
            "Preparing to unpack .../54-texlive-pictures_2021.20220204-1_all.deb ...\n",
            "Unpacking texlive-pictures (2021.20220204-1) ...\n",
            "Selecting previously unselected package texlive-latex-extra.\n",
            "Preparing to unpack .../55-texlive-latex-extra_2021.20220204-1_all.deb ...\n",
            "Unpacking texlive-latex-extra (2021.20220204-1) ...\n",
            "Selecting previously unselected package texlive-plain-generic.\n",
            "Preparing to unpack .../56-texlive-plain-generic_2021.20220204-1_all.deb ...\n",
            "Unpacking texlive-plain-generic (2021.20220204-1) ...\n",
            "Selecting previously unselected package tipa.\n",
            "Preparing to unpack .../57-tipa_2%3a1.3-21_all.deb ...\n",
            "Unpacking tipa (2:1.3-21) ...\n",
            "Selecting previously unselected package texlive-xetex.\n",
            "Preparing to unpack .../58-texlive-xetex_2021.20220204-1_all.deb ...\n",
            "Unpacking texlive-xetex (2021.20220204-1) ...\n",
            "Setting up fonts-lato (2.0-2.1) ...\n",
            "Setting up fonts-noto-mono (20201225-1build1) ...\n",
            "Setting up libwoff1:amd64 (1.0.2-1build4) ...\n",
            "Setting up libtexlua53:amd64 (2021.20210626.59705-1ubuntu0.2) ...\n",
            "Setting up libijs-0.35:amd64 (0.35-15build2) ...\n",
            "Setting up libtexluajit2:amd64 (2021.20210626.59705-1ubuntu0.2) ...\n",
            "Setting up libfontbox-java (1:1.8.16-2) ...\n",
            "Setting up rubygems-integration (1.18) ...\n",
            "Setting up libzzip-0-13:amd64 (0.13.72+dfsg.1-1.1) ...\n",
            "Setting up fonts-urw-base35 (20200910-1) ...\n",
            "Setting up poppler-data (0.4.11-1) ...\n",
            "Setting up tex-common (6.17) ...\n",
            "update-language: texlive-base not installed and configured, doing nothing!\n",
            "Setting up libfontenc1:amd64 (1:1.1.4-1build3) ...\n",
            "Setting up libjbig2dec0:amd64 (0.19-3build2) ...\n",
            "Setting up libteckit0:amd64 (2.5.11+ds1-1) ...\n",
            "Setting up libapache-pom-java (18-1) ...\n",
            "Setting up ruby-net-telnet (0.1.1-2) ...\n",
            "Setting up xfonts-encodings (1:1.0.5-0ubuntu2) ...\n",
            "Setting up t1utils (1.41-4build2) ...\n",
            "Setting up libidn12:amd64 (1.38-4ubuntu1) ...\n",
            "Setting up fonts-texgyre (20180621-3.1) ...\n",
            "Setting up libkpathsea6:amd64 (2021.20210626.59705-1ubuntu0.2) ...\n",
            "Setting up ruby-webrick (1.7.0-3ubuntu0.1) ...\n",
            "Setting up libcmark-gfm0.29.0.gfm.3:amd64 (0.29.0.gfm.3-3) ...\n",
            "Setting up fonts-lmodern (2.004.5-6.1) ...\n",
            "Setting up libcmark-gfm-extensions0.29.0.gfm.3:amd64 (0.29.0.gfm.3-3) ...\n",
            "Setting up fonts-droid-fallback (1:6.0.1r16-1.1build1) ...\n",
            "Setting up pandoc-data (2.9.2.1-3ubuntu2) ...\n",
            "Setting up ruby-xmlrpc (0.3.2-1ubuntu0.1) ...\n",
            "Setting up libsynctex2:amd64 (2021.20210626.59705-1ubuntu0.2) ...\n",
            "Setting up libgs9-common (9.55.0~dfsg1-0ubuntu5.10) ...\n",
            "Setting up teckit (2.5.11+ds1-1) ...\n",
            "Setting up libpdfbox-java (1:1.8.16-2) ...\n",
            "Setting up libgs9:amd64 (9.55.0~dfsg1-0ubuntu5.10) ...\n",
            "Setting up preview-latex-style (12.2-1ubuntu1) ...\n",
            "Setting up libcommons-parent-java (43-1) ...\n",
            "Setting up dvisvgm (2.13.1-1) ...\n",
            "Setting up libcommons-logging-java (1.2-2) ...\n",
            "Setting up xfonts-utils (1:7.7+6build2) ...\n",
            "Setting up libptexenc1:amd64 (2021.20210626.59705-1ubuntu0.2) ...\n",
            "Setting up pandoc (2.9.2.1-3ubuntu2) ...\n",
            "Setting up texlive-binaries (2021.20210626.59705-1ubuntu0.2) ...\n",
            "update-alternatives: using /usr/bin/xdvi-xaw to provide /usr/bin/xdvi.bin (xdvi.bin) in auto mode\n",
            "update-alternatives: using /usr/bin/bibtex.original to provide /usr/bin/bibtex (bibtex) in auto mode\n",
            "Setting up lmodern (2.004.5-6.1) ...\n",
            "Setting up texlive-base (2021.20220204-1) ...\n",
            "/usr/bin/ucfr\n",
            "/usr/bin/ucfr\n",
            "/usr/bin/ucfr\n",
            "/usr/bin/ucfr\n",
            "mktexlsr: Updating /var/lib/texmf/ls-R-TEXLIVEDIST... \n",
            "mktexlsr: Updating /var/lib/texmf/ls-R-TEXMFMAIN... \n",
            "mktexlsr: Updating /var/lib/texmf/ls-R... \n",
            "mktexlsr: Done.\n",
            "tl-paper: setting paper size for dvips to a4: /var/lib/texmf/dvips/config/config-paper.ps\n",
            "tl-paper: setting paper size for dvipdfmx to a4: /var/lib/texmf/dvipdfmx/dvipdfmx-paper.cfg\n",
            "tl-paper: setting paper size for xdvi to a4: /var/lib/texmf/xdvi/XDvi-paper\n",
            "tl-paper: setting paper size for pdftex to a4: /var/lib/texmf/tex/generic/tex-ini-files/pdftexconfig.tex\n",
            "Setting up tex-gyre (20180621-3.1) ...\n",
            "Setting up texlive-plain-generic (2021.20220204-1) ...\n",
            "Setting up texlive-latex-base (2021.20220204-1) ...\n",
            "Setting up texlive-latex-recommended (2021.20220204-1) ...\n",
            "Setting up texlive-pictures (2021.20220204-1) ...\n",
            "Setting up texlive-fonts-recommended (2021.20220204-1) ...\n",
            "Setting up tipa (2:1.3-21) ...\n",
            "Setting up texlive (2021.20220204-1) ...\n",
            "Setting up texlive-latex-extra (2021.20220204-1) ...\n",
            "Setting up texlive-xetex (2021.20220204-1) ...\n",
            "Setting up rake (13.0.6-2) ...\n",
            "Setting up libruby3.0:amd64 (3.0.2-7ubuntu2.8) ...\n",
            "Setting up ruby3.0 (3.0.2-7ubuntu2.8) ...\n",
            "Setting up ruby (1:3.0~exp1) ...\n",
            "Setting up ruby-rubygems (3.3.5-2) ...\n",
            "Processing triggers for man-db (2.10.2-1) ...\n",
            "Processing triggers for mailcap (3.70+nmu1ubuntu1) ...\n",
            "Processing triggers for fontconfig (2.13.1-4.2ubuntu5) ...\n",
            "Processing triggers for libc-bin (2.35-0ubuntu3.8) ...\n",
            "/sbin/ldconfig.real: /usr/local/lib/libumf.so.0 is not a symbolic link\n",
            "\n",
            "/sbin/ldconfig.real: /usr/local/lib/libur_adapter_opencl.so.0 is not a symbolic link\n",
            "\n",
            "/sbin/ldconfig.real: /usr/local/lib/libtbbmalloc_proxy.so.2 is not a symbolic link\n",
            "\n",
            "/sbin/ldconfig.real: /usr/local/lib/libur_loader.so.0 is not a symbolic link\n",
            "\n",
            "/sbin/ldconfig.real: /usr/local/lib/libtcm_debug.so.1 is not a symbolic link\n",
            "\n",
            "/sbin/ldconfig.real: /usr/local/lib/libtbb.so.12 is not a symbolic link\n",
            "\n",
            "/sbin/ldconfig.real: /usr/local/lib/libtbbbind.so.3 is not a symbolic link\n",
            "\n",
            "/sbin/ldconfig.real: /usr/local/lib/libhwloc.so.15 is not a symbolic link\n",
            "\n",
            "/sbin/ldconfig.real: /usr/local/lib/libtbbmalloc.so.2 is not a symbolic link\n",
            "\n",
            "/sbin/ldconfig.real: /usr/local/lib/libtbbbind_2_5.so.3 is not a symbolic link\n",
            "\n",
            "/sbin/ldconfig.real: /usr/local/lib/libur_adapter_level_zero.so.0 is not a symbolic link\n",
            "\n",
            "/sbin/ldconfig.real: /usr/local/lib/libtbbbind_2_0.so.3 is not a symbolic link\n",
            "\n",
            "/sbin/ldconfig.real: /usr/local/lib/libtcm.so.1 is not a symbolic link\n",
            "\n",
            "Processing triggers for tex-common (6.17) ...\n",
            "Running updmap-sys. This may take some time... done.\n",
            "Running mktexlsr /var/lib/texmf ... done.\n",
            "Building format(s) --all.\n",
            "\tThis may take some time... done.\n",
            "Collecting pypandoc\n",
            "  Downloading pypandoc-1.15-py3-none-any.whl.metadata (16 kB)\n",
            "Downloading pypandoc-1.15-py3-none-any.whl (21 kB)\n",
            "Installing collected packages: pypandoc\n",
            "Successfully installed pypandoc-1.15\n"
          ]
        }
      ]
    },
    {
      "cell_type": "code",
      "source": [
        "!jupyter nbconvert --to pdf bayesnets.ipynb\n",
        "from google.colab import files\n",
        "files.download('bayesnets.pdf')"
      ],
      "metadata": {
        "id": "OytEsdlo9DFF",
        "outputId": "a2dc4e28-e395-4b5e-ea49-6d5f64ef6e16",
        "colab": {
          "base_uri": "https://localhost:8080/",
          "height": 156
        }
      },
      "execution_count": 48,
      "outputs": [
        {
          "output_type": "stream",
          "name": "stdout",
          "text": [
            "[NbConvertApp] Converting notebook bayesnets.ipynb to pdf\n",
            "[NbConvertApp] Writing 144104 bytes to notebook.tex\n",
            "[NbConvertApp] Building PDF\n",
            "[NbConvertApp] Running xelatex 3 times: ['xelatex', 'notebook.tex', '-quiet']\n",
            "[NbConvertApp] Running bibtex 1 time: ['bibtex', 'notebook']\n",
            "[NbConvertApp] WARNING | bibtex had problems, most likely because there were no citations\n",
            "[NbConvertApp] PDF successfully created\n",
            "[NbConvertApp] Writing 151220 bytes to bayesnets.pdf\n"
          ]
        },
        {
          "output_type": "display_data",
          "data": {
            "text/plain": [
              "<IPython.core.display.Javascript object>"
            ],
            "application/javascript": [
              "\n",
              "    async function download(id, filename, size) {\n",
              "      if (!google.colab.kernel.accessAllowed) {\n",
              "        return;\n",
              "      }\n",
              "      const div = document.createElement('div');\n",
              "      const label = document.createElement('label');\n",
              "      label.textContent = `Downloading \"${filename}\": `;\n",
              "      div.appendChild(label);\n",
              "      const progress = document.createElement('progress');\n",
              "      progress.max = size;\n",
              "      div.appendChild(progress);\n",
              "      document.body.appendChild(div);\n",
              "\n",
              "      const buffers = [];\n",
              "      let downloaded = 0;\n",
              "\n",
              "      const channel = await google.colab.kernel.comms.open(id);\n",
              "      // Send a message to notify the kernel that we're ready.\n",
              "      channel.send({})\n",
              "\n",
              "      for await (const message of channel.messages) {\n",
              "        // Send a message to notify the kernel that we're ready.\n",
              "        channel.send({})\n",
              "        if (message.buffers) {\n",
              "          for (const buffer of message.buffers) {\n",
              "            buffers.push(buffer);\n",
              "            downloaded += buffer.byteLength;\n",
              "            progress.value = downloaded;\n",
              "          }\n",
              "        }\n",
              "      }\n",
              "      const blob = new Blob(buffers, {type: 'application/binary'});\n",
              "      const a = document.createElement('a');\n",
              "      a.href = window.URL.createObjectURL(blob);\n",
              "      a.download = filename;\n",
              "      div.appendChild(a);\n",
              "      a.click();\n",
              "      div.remove();\n",
              "    }\n",
              "  "
            ]
          },
          "metadata": {}
        },
        {
          "output_type": "display_data",
          "data": {
            "text/plain": [
              "<IPython.core.display.Javascript object>"
            ],
            "application/javascript": [
              "download(\"download_585e8941-7215-404c-8c29-a301a11e6ad8\", \"bayesnets.pdf\", 151220)"
            ]
          },
          "metadata": {}
        }
      ]
    },
    {
      "cell_type": "markdown",
      "metadata": {
        "id": "rCbXAVDD0Cno"
      },
      "source": [
        "### Likelihood Weighting\n",
        "\n",
        "Rejection sampling takes a long time to run when the probability of finding consistent evidence is low. It is also slow for larger networks and more evidence variables.\n",
        "Rejection sampling tends to reject a lot of samples if our evidence consists of a large number of variables. Likelihood Weighting solves this by fixing the evidence (i.e. not sampling it) and then using weights to make sure that our overall sampling is still consistent.\n",
        "\n",
        "The pseudocode in **Figure 14.15** is implemented as **likelihood_weighting** and **weighted_sample**."
      ]
    },
    {
      "cell_type": "code",
      "execution_count": null,
      "metadata": {
        "id": "xgi_5rsa0Cno"
      },
      "outputs": [],
      "source": [
        "import random\n",
        "\n",
        "def probability(p):\n",
        "    \"\"\"Return true with probability p.\"\"\"\n",
        "    return p > random.uniform(0.0, 1.0)\n",
        "\n",
        "def weighted_sample(bn, e):\n",
        "    \"\"\"Sample an event from bn that's consistent with the evidence e;\n",
        "    return the event and its weight, the likelihood that the event\n",
        "    accords to the evidence.\"\"\"\n",
        "    w = 1\n",
        "    event = dict(e)  # boldface x in [Figure 14.15]\n",
        "    for node in bn.nodes:\n",
        "        Xi = node.variable\n",
        "        if Xi in e:\n",
        "            w *= node.p(e[Xi], event)\n",
        "        else:\n",
        "            event[Xi] = node.sample(event)\n",
        "    return event, w"
      ]
    },
    {
      "cell_type": "markdown",
      "metadata": {
        "id": "CMkXZAZV0Cno"
      },
      "source": [
        "\n",
        "**weighted_sample** samples an event from Bayesian Network that's consistent with the evidence **e** and returns the event and its weight, the likelihood that the event accords to the evidence. It takes in two parameters **bn** the Bayesian Network and **e** the evidence.\n",
        "\n",
        "The weight is obtained by multiplying **P(x<sub>i</sub> | parents(x<sub>i</sub>))** for each node in evidence. We set the values of **event = evidence** at the start of the function."
      ]
    },
    {
      "cell_type": "code",
      "execution_count": null,
      "metadata": {
        "id": "TXPrgKxk0Cno"
      },
      "outputs": [],
      "source": [
        "weighted_sample(burglary, dict(Alarm=True))"
      ]
    },
    {
      "cell_type": "code",
      "execution_count": null,
      "metadata": {
        "id": "unTd_oYk0Cno"
      },
      "outputs": [],
      "source": [
        "def likelihood_weighting(X, e, bn, N=10000):\n",
        "    \"\"\"Estimate the probability distribution of variable X given\n",
        "    evidence e in BayesNet bn.  [Figure 14.15]\n",
        "    >>> random.seed(1017)\n",
        "    >>> likelihood_weighting('Burglary', dict(JohnCalls=T, MaryCalls=T),\n",
        "    ...   burglary, 10000).show_approx()\n",
        "    'False: 0.702, True: 0.298'\n",
        "    \"\"\"\n",
        "    W = {x: 0 for x in bn.variable_values(X)}\n",
        "    for j in range(N):\n",
        "        sample, weight = weighted_sample(bn, e)  # boldface x, w in [Figure 14.15]\n",
        "        W[sample[X]] += weight\n",
        "    return ProbDist(X, W)"
      ]
    },
    {
      "cell_type": "markdown",
      "metadata": {
        "id": "nOoQQmPx0Cnp"
      },
      "source": [
        "**likelihood_weighting** implements the algorithm to solve our inference problem. The code is similar to **rejection_sampling** but instead of adding one for each sample we add the weight obtained from **weighted_sampling**."
      ]
    },
    {
      "cell_type": "code",
      "execution_count": null,
      "metadata": {
        "id": "UfZpPSur0Cnp"
      },
      "outputs": [],
      "source": [
        "likelihood_weighting('JohnCalls', dict(Alarm=True), burglary, 200).show_approx()"
      ]
    },
    {
      "cell_type": "markdown",
      "metadata": {
        "id": "T61Cua920Cnp"
      },
      "source": [
        "What other scenarios can we think of?"
      ]
    },
    {
      "cell_type": "code",
      "execution_count": null,
      "metadata": {
        "id": "jubf_joC0Cnp"
      },
      "outputs": [],
      "source": [
        "# Fill in the other situation here:\n"
      ]
    },
    {
      "cell_type": "markdown",
      "metadata": {
        "id": "ShapYn5c0Cnp"
      },
      "source": [
        "Let's redefine our function to see what happens at each iterative step"
      ]
    },
    {
      "cell_type": "code",
      "execution_count": null,
      "metadata": {
        "id": "eUsINPnf0Cnp"
      },
      "outputs": [],
      "source": [
        "def likelihood_weighting(X, e, bn, N=10000, max_print=10):\n",
        "    \"\"\"Estimate the probability distribution of variable X given\n",
        "    evidence e in BayesNet bn.  [Figure 14.15]\n",
        "    >>> random.seed(1017)\n",
        "    >>> likelihood_weighting('Burglary', dict(JohnCalls=T, MaryCalls=T),\n",
        "    ...   burglary, 10000).show_approx()\n",
        "    'False: 0.702, True: 0.298'\n",
        "    \"\"\"\n",
        "    W = {x: 0 for x in bn.variable_values(X)}\n",
        "    print(W)\n",
        "    for j in range(N):\n",
        "        sample, weight = weighted_sample(bn, e)  # boldface x, w in [Figure 14.15]\n",
        "        if j < max_print:\n",
        "            print(f'Our sample and weight @ {j} is {sample}, {weight}')\n",
        "        W[sample[X]] += weight\n",
        "        if j < max_print:\n",
        "            print(f'Our W[sample[X]] @ {j} is {W[sample[X]]}')\n",
        "    print(f'Our final sample and weight @ {j} is {sample}, {weight}')\n",
        "    print(f'Our final W[sample[X]] @ {j} is {W[sample[X]]}')\n",
        "    return ProbDist(X, W)"
      ]
    },
    {
      "cell_type": "code",
      "execution_count": null,
      "metadata": {
        "id": "yq7ow9AP0Cnq"
      },
      "outputs": [],
      "source": [
        "likelihood_weighting('JohnCalls', dict(Alarm=True), burglary, 200).show_approx()"
      ]
    },
    {
      "cell_type": "markdown",
      "metadata": {
        "id": "mDmXdIEs0Cnq"
      },
      "source": [
        "What about our other situation?"
      ]
    },
    {
      "cell_type": "code",
      "execution_count": null,
      "metadata": {
        "id": "k79JIMJ20Cnq"
      },
      "outputs": [],
      "source": [
        "# Fill in the other situation from above here:\n"
      ]
    },
    {
      "cell_type": "markdown",
      "metadata": {
        "jp-MarkdownHeadingCollapsed": true,
        "id": "eLFty0DL0Cnq"
      },
      "source": [
        "# Lecture Ends Here. I will update the code blocks below later and update this notebook"
      ]
    },
    {
      "cell_type": "markdown",
      "metadata": {
        "jp-MarkdownHeadingCollapsed": true,
        "id": "RyMvk0m20Cnq"
      },
      "source": [
        "## Exact Inference in Bayesian Networks\n",
        "\n",
        "A Bayes Network is a more compact representation of the full joint distribution and like full joint distributions allows us to do inference i.e. answer questions about probability distributions of random variables given some evidence.\n",
        "\n",
        "Exact algorithms don't scale well for larger networks. Approximate algorithms are explained in the next section.\n",
        "\n",
        "### Inference by Enumeration\n",
        "\n",
        "We apply techniques similar to those used for **enumerate_joint_ask** and **enumerate_joint** to draw inference from Bayesian Networks. **enumeration_ask** and **enumerate_all** implement the algorithm described in **Figure 14.9** of the book."
      ]
    },
    {
      "cell_type": "code",
      "execution_count": null,
      "metadata": {
        "id": "X8zBMU5o0Cnq"
      },
      "outputs": [],
      "source": [
        "def enumerate_all(variables, e, bn):\n",
        "    \"\"\"Return the sum of those entries in P(variables | e{others})\n",
        "    consistent with e, where P is the joint distribution represented\n",
        "    by bn, and e{others} means e restricted to bn's other variables\n",
        "    (the ones other than variables). Parents must precede children in variables.\"\"\"\n",
        "    if not variables:\n",
        "        return 1.0\n",
        "    Y, rest = variables[0], variables[1:]\n",
        "    Ynode = bn.variable_node(Y)\n",
        "    if Y in e:\n",
        "        return Ynode.p(e[Y], e) * enumerate_all(rest, e, bn)\n",
        "    else:\n",
        "        return sum(Ynode.p(y, e) * enumerate_all(rest, extend(e, Y, y), bn)\n",
        "                   for y in bn.variable_values(Y))"
      ]
    },
    {
      "cell_type": "markdown",
      "metadata": {
        "id": "6AIbRsht0Cnr"
      },
      "source": [
        "**enumerate_all** recursively evaluates a general form of the **Equation 14.4** in the book.\n",
        "\n",
        "$$\\textbf{P}(X | \\textbf{e}) = α \\textbf{P}(X, \\textbf{e}) = α \\sum_{y} \\textbf{P}(X, \\textbf{e}, \\textbf{y})$$\n",
        "\n",
        "such that **P(X, e, y)** is written in the form of product of conditional probabilities **P(variable | parents(variable))** from the Bayesian Network.\n",
        "\n",
        "**enumeration_ask** calls **enumerate_all** on each value of query variable **X** and finally normalizes them.\n"
      ]
    },
    {
      "cell_type": "code",
      "execution_count": null,
      "metadata": {
        "id": "500Bdjsn0Cnr"
      },
      "outputs": [],
      "source": [
        "def enumeration_ask(X, e, bn):\n",
        "    \"\"\"Return the conditional probability distribution of variable X\n",
        "    given evidence e, from BayesNet bn. [Figure 14.9]\n",
        "    >>> enumeration_ask('Burglary', dict(JohnCalls=T, MaryCalls=T), burglary\n",
        "    ...  ).show_approx()\n",
        "    'False: 0.716, True: 0.284'\"\"\"\n",
        "    assert X not in e, \"Query variable must be distinct from evidence\"\n",
        "    Q = ProbDist(X)\n",
        "    for xi in bn.variable_values(X):\n",
        "        Q[xi] = enumerate_all(bn.variables, extend(e, X, xi), bn)\n",
        "    return Q.normalize()"
      ]
    },
    {
      "cell_type": "markdown",
      "metadata": {
        "id": "YTqUu_SW0Cnr"
      },
      "source": [
        "Let us solve the problem of finding out **P(Burglary=True | JohnCalls=True, MaryCalls=True)** using the **burglary** network. **enumeration_ask** takes three arguments **X** = variable name, **e** = Evidence (in form a dict like previously explained), **bn** = The Bayes Net to do inference on."
      ]
    },
    {
      "cell_type": "code",
      "execution_count": null,
      "metadata": {
        "id": "PwyEuBGx0Cnr"
      },
      "outputs": [],
      "source": [
        "ans_dist = enumeration_ask('Burglary', {'JohnCalls': True, 'MaryCalls': True}, burglary)\n",
        "ans_dist[True]"
      ]
    },
    {
      "cell_type": "markdown",
      "metadata": {
        "jp-MarkdownHeadingCollapsed": true,
        "id": "_SXXsbxT0Cns"
      },
      "source": [
        "### Variable Elimination\n",
        "\n",
        "The enumeration algorithm can be improved substantially by eliminating repeated calculations. In enumeration we join the joint of all hidden variables. This is of exponential size for the number of hidden variables. Variable elimination employes interleaving join and marginalization.\n",
        "\n",
        "Before we look into the implementation of Variable Elimination we must first familiarize ourselves with Factors.\n",
        "\n",
        "In general we call a multidimensional array of type P(Y1 ... Yn | X1 ... Xm) a factor where some of Xs and Ys maybe assigned values. Factors are implemented in the probability module as the class **Factor**. They take as input **variables** and **cpt**.\n",
        "\n",
        "\n",
        "#### Helper Functions\n",
        "\n",
        "There are certain helper functions that help creating the **cpt** for the Factor given the evidence. Let us explore them one by one."
      ]
    },
    {
      "cell_type": "code",
      "execution_count": null,
      "metadata": {
        "id": "fm5lR1AA0Cns"
      },
      "outputs": [],
      "source": [
        "class Factor:\n",
        "    \"\"\"A factor in a joint distribution.\"\"\"\n",
        "\n",
        "    def __init__(self, variables, cpt):\n",
        "        self.variables = variables\n",
        "        self.cpt = cpt\n",
        "\n",
        "    def pointwise_product(self, other, bn):\n",
        "        \"\"\"Multiply two factors, combining their variables.\"\"\"\n",
        "        variables = list(set(self.variables) | set(other.variables))\n",
        "        cpt = {event_values(e, variables): self.p(e) * other.p(e) for e in all_events(variables, bn, {})}\n",
        "        return Factor(variables, cpt)\n",
        "\n",
        "    def sum_out(self, var, bn):\n",
        "        \"\"\"Make a factor eliminating var by summing over its values.\"\"\"\n",
        "        variables = [X for X in self.variables if X != var]\n",
        "        cpt = {event_values(e, variables): sum(self.p(extend(e, var, val)) for val in bn.variable_values(var))\n",
        "               for e in all_events(variables, bn, {})}\n",
        "        return Factor(variables, cpt)\n",
        "\n",
        "    def normalize(self):\n",
        "        \"\"\"Return my probabilities; must be down to one variable.\"\"\"\n",
        "        assert len(self.variables) == 1\n",
        "        return ProbDist(self.variables[0], {k: v for ((k,), v) in self.cpt.items()})\n",
        "\n",
        "    def p(self, e):\n",
        "        \"\"\"Look up my value tabulated for e.\"\"\"\n",
        "        return self.cpt[event_values(e, self.variables)]\n",
        "\n",
        "def make_factor(var, e, bn):\n",
        "    \"\"\"Return the factor for var in bn's joint distribution given e.\n",
        "    That is, bn's full joint distribution, projected to accord with e,\n",
        "    is the pointwise product of these factors for bn's variables.\"\"\"\n",
        "    node = bn.variable_node(var)\n",
        "    variables = [X for X in [var] + node.parents if X not in e]\n",
        "    cpt = {event_values(e1, variables): node.p(e1[var], e1)\n",
        "           for e1 in all_events(variables, bn, e)}\n",
        "    return Factor(variables, cpt)"
      ]
    },
    {
      "cell_type": "markdown",
      "metadata": {
        "id": "tyESS3IF0Cns"
      },
      "source": [
        "**make_factor** is used to create the **cpt** and **variables** that will be passed to the constructor of **Factor**. We use **make_factor** for each variable. It takes in the arguments **var** the particular variable, **e** the evidence we want to do inference on, **bn** the bayes network.\n",
        "\n",
        "Here **variables** for each node refers to a list consisting of the variable itself and the parents minus any variables that are part of the evidence. This is created by finding the **node.parents** and filtering out those that are not part of the evidence.\n",
        "\n",
        "The **cpt** created is the one similar to the original **cpt** of the node with only rows that agree with the evidence."
      ]
    },
    {
      "cell_type": "code",
      "execution_count": null,
      "metadata": {
        "id": "SXh6UDP30Cns"
      },
      "outputs": [],
      "source": [
        "def all_events(variables, bn, e):\n",
        "    \"\"\"Yield every way of extending e with values for all variables.\"\"\"\n",
        "    if not variables:\n",
        "        yield e\n",
        "    else:\n",
        "        X, rest = variables[0], variables[1:]\n",
        "        for e1 in all_events(rest, bn, e):\n",
        "            for x in bn.variable_values(X):\n",
        "                yield extend(e1, X, x)"
      ]
    },
    {
      "cell_type": "markdown",
      "metadata": {
        "id": "x_feq2-B0Cns"
      },
      "source": [
        "The **all_events** function is a recursive generator function which yields a key for the orignal **cpt** which is part of the node. This works by extending evidence related to the node, thus all the output from **all_events** only includes events that support the evidence. Given **all_events** is a generator function one such event is returned on every call.\n",
        "\n",
        "We can try this out using the example on **Page 524** of the book. We will make **f**<sub>5</sub>(A) = P(m | A)"
      ]
    },
    {
      "cell_type": "code",
      "execution_count": null,
      "metadata": {
        "id": "xDw2vF1N0Cns"
      },
      "outputs": [],
      "source": [
        "f5 = make_factor('MaryCalls', {'JohnCalls': True, 'MaryCalls': True}, burglary)"
      ]
    },
    {
      "cell_type": "code",
      "execution_count": null,
      "metadata": {
        "id": "I1aDkh2l0Cns"
      },
      "outputs": [],
      "source": [
        "f5"
      ]
    },
    {
      "cell_type": "code",
      "execution_count": null,
      "metadata": {
        "id": "gDITPuam0Cns"
      },
      "outputs": [],
      "source": [
        "f5.cpt"
      ]
    },
    {
      "cell_type": "code",
      "execution_count": null,
      "metadata": {
        "id": "92TOMkgQ0Cns"
      },
      "outputs": [],
      "source": [
        "f5.variables"
      ]
    },
    {
      "cell_type": "markdown",
      "metadata": {
        "id": "PN5I1R-V0Cns"
      },
      "source": [
        "Here **f5.cpt** False key gives probability for **P(MaryCalls=True | Alarm = False)**. Due to our representation where we only store probabilities for only in cases where the node variable is True this is the same as the **cpt** of the BayesNode. Let us try a somewhat different example from the book where evidence is that the Alarm = True"
      ]
    },
    {
      "cell_type": "code",
      "execution_count": null,
      "metadata": {
        "id": "4rN0QSXY0Cnt"
      },
      "outputs": [],
      "source": [
        "new_factor = make_factor('MaryCalls', {'Alarm': True}, burglary)"
      ]
    },
    {
      "cell_type": "code",
      "execution_count": null,
      "metadata": {
        "id": "c3zaf4Uz0Cnt"
      },
      "outputs": [],
      "source": [
        "new_factor.cpt"
      ]
    },
    {
      "cell_type": "markdown",
      "metadata": {
        "id": "YGrYKPjs0Cnt"
      },
      "source": [
        "Here the **cpt** is for **P(MaryCalls | Alarm = True)**. Therefore the probabilities for True and False sum up to one. Note the difference between both the cases. Again the only rows included are those consistent with the evidence.\n",
        "\n",
        "#### Operations on Factors\n",
        "\n",
        "We are interested in two kinds of operations on factors. **Pointwise Product** which is used to created joint distributions and **Summing Out** which is used for marginalization."
      ]
    },
    {
      "cell_type": "markdown",
      "metadata": {
        "id": "d3oCg2HB0Cnt"
      },
      "source": [
        "**Factor.pointwise_product** implements a method of creating a joint via combining two factors. We take the union of **variables** of both the factors and then generate the **cpt** for the new factor using **all_events** function. Note that the given we have eliminated rows that are not consistent with the evidence. Pointwise product assigns new probabilities by multiplying rows similar to that in a database join."
      ]
    },
    {
      "cell_type": "code",
      "execution_count": null,
      "metadata": {
        "id": "CmdsAVNr0Cnt"
      },
      "outputs": [],
      "source": [
        "def pointwise_product(factors, bn):\n",
        "    return reduce(lambda f, g: f.pointwise_product(g, bn), factors)"
      ]
    },
    {
      "cell_type": "markdown",
      "metadata": {
        "id": "U9cUi9020Cnt"
      },
      "source": [
        "**pointwise_product** extends this operation to more than two operands where it is done sequentially in pairs of two."
      ]
    },
    {
      "cell_type": "markdown",
      "metadata": {
        "id": "IVKyyh7o0Cnt"
      },
      "source": [
        "**Factor.sum_out** makes a factor eliminating a variable by summing over its values. Again **events_all** is used to generate combinations for the rest of the variables."
      ]
    },
    {
      "cell_type": "code",
      "execution_count": null,
      "metadata": {
        "id": "H4uRk6J10Cnt"
      },
      "outputs": [],
      "source": [
        "def sum_out(var, factors, bn):\n",
        "    \"\"\"Eliminate var from all factors by summing over its values.\"\"\"\n",
        "    result, var_factors = [], []\n",
        "    for f in factors:\n",
        "        (var_factors if var in f.variables else result).append(f)\n",
        "    result.append(pointwise_product(var_factors, bn).sum_out(var, bn))\n",
        "    return result"
      ]
    },
    {
      "cell_type": "markdown",
      "metadata": {
        "id": "SsbO1eU70Cnu"
      },
      "source": [
        "**sum_out** uses both **Factor.sum_out** and **pointwise_product** to finally eliminate a particular variable from all factors by summing over its values."
      ]
    },
    {
      "cell_type": "markdown",
      "metadata": {
        "jp-MarkdownHeadingCollapsed": true,
        "id": "0VNMxsLE0Cnu"
      },
      "source": [
        "#### Elimination Ask\n",
        "\n",
        "The algorithm described in **Figure 14.11** of the book is implemented by the function **elimination_ask**. We use this for inference. The key idea is that we eliminate the hidden variables by interleaving joining and marginalization. It takes in 3 arguments **X** the query variable, **e** the evidence variable and **bn** the Bayes network.\n",
        "\n",
        "The algorithm creates factors out of Bayes Nodes in reverse order and eliminates hidden variables using **sum_out**. Finally it takes a point wise product of all factors and normalizes. Let us finally solve the problem of inferring\n",
        "\n",
        "**P(Burglary=True | JohnCalls=True, MaryCalls=True)** using variable elimination."
      ]
    },
    {
      "cell_type": "code",
      "execution_count": null,
      "metadata": {
        "id": "MRkzj59T0Cnv"
      },
      "outputs": [],
      "source": [
        "from functools import reduce\n",
        "def is_hidden(var, X, e):\n",
        "    \"\"\"Is var a hidden variable when querying P(X|e)?\"\"\"\n",
        "    return var != X and var not in e\n",
        "\n",
        "def elimination_ask(X, e, bn):\n",
        "    \"\"\"Compute bn's P(X|e) by variable elimination. [Figure 14.11]\n",
        "    >>> elimination_ask('Burglary', dict(JohnCalls=T, MaryCalls=T), burglary\n",
        "    ...  ).show_approx()\n",
        "    'False: 0.716, True: 0.284'\"\"\"\n",
        "    assert X not in e, \"Query variable must be distinct from evidence\"\n",
        "    factors = []\n",
        "    for var in reversed(bn.variables):\n",
        "        factors.append(make_factor(var, e, bn))\n",
        "        if is_hidden(var, X, e):\n",
        "            factors = sum_out(var, factors, bn)\n",
        "    return pointwise_product(factors, bn).normalize()"
      ]
    },
    {
      "cell_type": "code",
      "execution_count": null,
      "metadata": {
        "id": "2AkNjJ1G0Cnv"
      },
      "outputs": [],
      "source": [
        "elimination_ask('Burglary', dict(JohnCalls=True, MaryCalls=True), burglary).show_approx()"
      ]
    },
    {
      "cell_type": "markdown",
      "metadata": {
        "jp-MarkdownHeadingCollapsed": true,
        "id": "Aehhf57j0Cnv"
      },
      "source": [
        "#### Elimination Ask Optimizations\n",
        "\n",
        "`elimination_ask` has some critical point to consider and some optimizations could be performed:\n",
        "\n",
        "- **Operation on factors**:\n",
        "\n",
        "  `sum_out` and `pointwise_product` function used in `elimination_ask` is where space and time complexity arise in the variable elimination algorithm (AIMA3e pg. 526).\n",
        "\n",
        ">The only trick is to notice that any factor that does not depend on the variable to be summed out can be moved outside the summation.\n",
        "\n",
        "- **Variable ordering**:\n",
        "\n",
        "  Elimination ordering is important, every choice of ordering yields a valid algorithm, but different orderings cause different intermediate factors to be generated during the calculation (AIMA3e pg. 527). In this case the algorithm applies a reversed order.\n",
        "\n",
        "> In general, the time and space requirements of variable elimination are dominated by the size of the largest factor constructed during the operation of the algorithm. This in turn is determined by the order of elimination of variables and by the structure of the network. It turns out to be intractable to determine the optimal ordering, but several good heuristics are available. One fairly effective method is a greedy one: eliminate whichever variable minimizes the size of the next factor to be constructed.  \n",
        "\n",
        "- **Variable relevance**\n",
        "  \n",
        "  Some variables could be irrelevant to resolve a query  (i.e. sums to 1). A variable elimination algorithm can therefore remove all these variables before evaluating the query (AIMA3e pg. 528).\n",
        "\n",
        "> An optimization is to remove 'every variable that is not an ancestor of a query variable or evidence variable is irrelevant to the query'."
      ]
    },
    {
      "cell_type": "markdown",
      "metadata": {
        "id": "n21E6AHd0Cnv"
      },
      "source": [
        "#### Runtime comparison\n",
        "Let's see how the runtimes of these two algorithms compare.\n",
        "We expect variable elimination to outperform enumeration by a large margin as we reduce the number of repetitive calculations significantly."
      ]
    },
    {
      "cell_type": "code",
      "execution_count": null,
      "metadata": {
        "id": "7RVD_IMd0Cnv"
      },
      "outputs": [],
      "source": [
        "%%timeit\n",
        "enumeration_ask('Burglary', dict(JohnCalls=True, MaryCalls=True), burglary).show_approx()"
      ]
    },
    {
      "cell_type": "code",
      "execution_count": null,
      "metadata": {
        "id": "fnpN-vib0Cnv"
      },
      "outputs": [],
      "source": [
        "%%timeit\n",
        "elimination_ask('Burglary', dict(JohnCalls=True, MaryCalls=True), burglary).show_approx()"
      ]
    },
    {
      "cell_type": "markdown",
      "metadata": {
        "id": "UtJEho2c0Cnw"
      },
      "source": [
        "In this test case we observe that variable elimination is slower than what we expected. It has something to do with number of threads, how Python tries to optimize things and  this happens because the network is very small, with just 5 nodes. The `elimination_ask` has some critical point and some optimizations must be perfomed as seen above.\n",
        "<br>\n",
        "Of course, for more complicated networks, variable elimination will be significantly faster and runtime will drop not just by a constant factor, but by a polynomial factor proportional to the number of nodes, due to the reduction in repeated calculations."
      ]
    },
    {
      "cell_type": "markdown",
      "metadata": {
        "jp-MarkdownHeadingCollapsed": true,
        "id": "ltDqZd1a0Cnw"
      },
      "source": [
        "## Approximate Inference in Bayesian Networks\n",
        "\n",
        "Exact inference fails to scale for very large and complex Bayesian Networks. This section covers implementation of randomized sampling algorithms, also called Monte Carlo algorithms."
      ]
    },
    {
      "cell_type": "code",
      "execution_count": null,
      "metadata": {
        "id": "M4G-XQSo0Cnw"
      },
      "outputs": [],
      "source": [
        "psource(BayesNode.sample)"
      ]
    },
    {
      "cell_type": "markdown",
      "metadata": {
        "jp-MarkdownHeadingCollapsed": true,
        "id": "Ivc8UN490Cnx"
      },
      "source": [
        "Before we consider the different algorithms in this section let us look at the **BayesNode.sample** method. It samples from the distribution for this variable conditioned on event's values for parent_variables. That is, return True/False at random according to with the conditional probability given the parents. The **probability** function is a simple helper from **utils** module which returns True with the probability passed to it.\n",
        "\n",
        "### Prior Sampling\n",
        "\n",
        "The idea of Prior Sampling is to sample from the Bayesian Network in a topological order. We start at the top of the network and sample as per **P(X<sub>i</sub> | parents(X<sub>i</sub>)** i.e. the probability distribution from which the value is sampled is conditioned on the values already assigned to the variable's parents. This can be thought of as a simulation."
      ]
    },
    {
      "cell_type": "code",
      "execution_count": null,
      "metadata": {
        "id": "MygEabwr0Cnx"
      },
      "outputs": [],
      "source": [
        "def prior_sample(bn):\n",
        "    \"\"\"Randomly sample from bn's full joint distribution. The result\n",
        "    is a {variable: value} dict. [Figure 14.13]\"\"\"\n",
        "    event = {}\n",
        "    for node in bn.nodes:\n",
        "        event[node.variable] = node.sample(event)\n",
        "    return event"
      ]
    },
    {
      "cell_type": "markdown",
      "metadata": {
        "id": "WyThvR0J0Cnx"
      },
      "source": [
        "The function **prior_sample** implements the algorithm described in **Figure 14.13** of the book. Nodes are sampled in the topological order. The old value of the event is passed as evidence for parent values. We will use the Bayesian Network in **Figure 14.12** to try out the **prior_sample**\n",
        "\n",
        "![Hello World](data:image/png;base64,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)\n",
        "\n",
        "Traversing the graph in topological order is important.\n",
        "There are two possible topological orderings for this particular directed acyclic graph.\n",
        "<br>\n",
        "1. `Cloudy -> Sprinkler -> Rain -> Wet Grass`\n",
        "2. `Cloudy -> Rain -> Sprinkler -> Wet Grass`\n",
        "<br>\n",
        "<br>\n",
        "We can follow any of the two orderings to sample from the network.\n",
        "Any ordering other than these two, however, cannot be used.\n",
        "<br>\n",
        "One way to think about this is that `Cloudy` can be seen as a precondition of both `Rain` and `Sprinkler` and just like we have seen in planning, preconditions need to be satisfied before a certain action can be executed.\n",
        "<br>\n",
        "We store the samples on the observations. Let us find **P(Rain=True)** by taking 1000 random samples from the network."
      ]
    },
    {
      "cell_type": "code",
      "execution_count": null,
      "metadata": {
        "id": "6yDiF3Gn0Cnx"
      },
      "outputs": [],
      "source": [
        "N = 1000\n",
        "all_observations = [prior_sample(sprinkler) for x in range(N)]"
      ]
    },
    {
      "cell_type": "markdown",
      "metadata": {
        "id": "t_gRS8_S0Cny"
      },
      "source": [
        "Now we filter to get the observations where Rain = True"
      ]
    },
    {
      "cell_type": "code",
      "execution_count": null,
      "metadata": {
        "id": "GhyaDBny0Cny"
      },
      "outputs": [],
      "source": [
        "rain_true = [observation for observation in all_observations if observation['Rain'] == True]"
      ]
    },
    {
      "cell_type": "markdown",
      "metadata": {
        "id": "g2HsngHf0Cny"
      },
      "source": [
        "Finally, we can find **P(Rain=True)**"
      ]
    },
    {
      "cell_type": "code",
      "execution_count": null,
      "metadata": {
        "id": "TfXNdc9F0Cny"
      },
      "outputs": [],
      "source": [
        "answer = len(rain_true) / N\n",
        "print(answer)"
      ]
    },
    {
      "cell_type": "markdown",
      "metadata": {
        "id": "A1pq0OJP0Cny"
      },
      "source": [
        "Sampling this another time might give different results as we have no control over the distribution of the random samples"
      ]
    },
    {
      "cell_type": "code",
      "execution_count": null,
      "metadata": {
        "id": "yR2yt81Q0Cny"
      },
      "outputs": [],
      "source": [
        "N = 1000\n",
        "all_observations = [prior_sample(sprinkler) for x in range(N)]\n",
        "rain_true = [observation for observation in all_observations if observation['Rain'] == True]\n",
        "answer = len(rain_true) / N\n",
        "print(answer)"
      ]
    },
    {
      "cell_type": "markdown",
      "metadata": {
        "id": "U0JeSCIe0Cnz"
      },
      "source": [
        "To evaluate a conditional distribution. We can use a two-step filtering process. We first separate out the variables that are consistent with the evidence. Then for each value of query variable, we can find probabilities. For example to find **P(Cloudy=True | Rain=True)**. We have already filtered out the values consistent with our evidence in **rain_true**. Now we apply a second filtering step on **rain_true** to find **P(Rain=True and Cloudy=True)**"
      ]
    },
    {
      "cell_type": "code",
      "execution_count": null,
      "metadata": {
        "id": "Sdq7q21E0Cnz"
      },
      "outputs": [],
      "source": [
        "rain_and_cloudy = [observation for observation in rain_true if observation['Cloudy'] == True]\n",
        "answer = len(rain_and_cloudy) / len(rain_true)\n",
        "print(answer)"
      ]
    },
    {
      "cell_type": "markdown",
      "metadata": {
        "jp-MarkdownHeadingCollapsed": true,
        "id": "vTZp_C-d0Cnz"
      },
      "source": [
        "### Rejection Sampling\n",
        "\n",
        "Rejection Sampling is based on an idea similar to what we did just now.\n",
        "First, it generates samples from the prior distribution specified by the network.\n",
        "Then, it rejects all those that do not match the evidence.\n",
        "<br>\n",
        "Rejection sampling is advantageous only when we know the query beforehand.\n",
        "While prior sampling generally works for any query, it might fail in some scenarios.\n",
        "<br>\n",
        "Let's say we have a generic Bayesian network and we have evidence `e`, and we want to know how many times a state `A` is true, given evidence `e` is true.\n",
        "Normally, prior sampling can answer this question, but let's assume that the probability of evidence `e` being true in our actual probability distribution is very small.\n",
        "In this situation, it might be possible that sampling never encounters a data-point where `e` is true.\n",
        "If our sampled data has no instance of `e` being true, `P(e) = 0`, and therefore `P(A | e) / P(e) = 0/0`, which is undefined.\n",
        "We cannot find the required value using this sample.\n",
        "<br>\n",
        "We can definitely increase the number of sample points, but we can never guarantee that we will encounter the case where `e` is non-zero (assuming our actual probability distribution has atleast one case where `e` is true).\n",
        "To guarantee this, we would have to consider every single data point, which means we lose the speed advantage that approximation provides us and we essentially have to calculate the exact inference model of the Bayesian network.\n",
        "<br>\n",
        "<br>\n",
        "Rejection sampling will be useful in this situation, as we already know the query.\n",
        "<br>\n",
        "While sampling from the network, we will reject any sample which is inconsistent with the evidence variables of the given query (in this example, the only evidence variable is `e`).\n",
        "We will only consider samples that do not violate **any** of the evidence variables.\n",
        "In this way, we will have enough data with the required evidence to infer queries involving a subset of that evidence.\n",
        "<br>\n",
        "<br>\n",
        "The function **rejection_sampling** implements the algorithm described by **Figure 14.14**"
      ]
    },
    {
      "cell_type": "code",
      "execution_count": null,
      "metadata": {
        "id": "k030NEPF0Cnz"
      },
      "outputs": [],
      "source": [
        "psource(rejection_sampling)"
      ]
    },
    {
      "cell_type": "markdown",
      "metadata": {
        "id": "6GSp85VP0Cnz"
      },
      "source": [
        "The function keeps counts of each of the possible values of the Query variable and increases the count when we see an observation consistent with the evidence. It takes in input parameters **X** - The Query Variable, **e** - evidence, **bn** - Bayes net and **N** - number of prior samples to generate.\n",
        "\n",
        "**consistent_with** is used to check consistency."
      ]
    },
    {
      "cell_type": "code",
      "execution_count": null,
      "metadata": {
        "id": "G1vb1SGv0Cnz"
      },
      "outputs": [],
      "source": [
        "psource(consistent_with)"
      ]
    },
    {
      "cell_type": "markdown",
      "metadata": {
        "id": "tThrTXkX0Cn0"
      },
      "source": [
        "To answer **P(Cloudy=True | Rain=True)**"
      ]
    },
    {
      "cell_type": "code",
      "execution_count": null,
      "metadata": {
        "id": "OBIHP6980Cn0"
      },
      "outputs": [],
      "source": [
        "p = rejection_sampling('Cloudy', dict(Rain=True), sprinkler, 1000)\n",
        "p[True]"
      ]
    },
    {
      "cell_type": "markdown",
      "metadata": {
        "jp-MarkdownHeadingCollapsed": true,
        "id": "UWtrxy7w0Cn0"
      },
      "source": [
        "### Likelihood Weighting\n",
        "\n",
        "Rejection sampling takes a long time to run when the probability of finding consistent evidence is low. It is also slow for larger networks and more evidence variables.\n",
        "Rejection sampling tends to reject a lot of samples if our evidence consists of a large number of variables. Likelihood Weighting solves this by fixing the evidence (i.e. not sampling it) and then using weights to make sure that our overall sampling is still consistent.\n",
        "\n",
        "The pseudocode in **Figure 14.15** is implemented as **likelihood_weighting** and **weighted_sample**."
      ]
    },
    {
      "cell_type": "code",
      "execution_count": null,
      "metadata": {
        "id": "O_f1iUa_0Cn0"
      },
      "outputs": [],
      "source": [
        "import random\n",
        "\n",
        "def probability(p):\n",
        "    \"\"\"Return true with probability p.\"\"\"\n",
        "    return p > random.uniform(0.0, 1.0)\n",
        "\n",
        "def weighted_sample(bn, e):\n",
        "    \"\"\"Sample an event from bn that's consistent with the evidence e;\n",
        "    return the event and its weight, the likelihood that the event\n",
        "    accords to the evidence.\"\"\"\n",
        "    w = 1\n",
        "    event = dict(e)  # boldface x in [Figure 14.15]\n",
        "    for node in bn.nodes:\n",
        "        Xi = node.variable\n",
        "        if Xi in e:\n",
        "            w *= node.p(e[Xi], event)\n",
        "        else:\n",
        "            event[Xi] = node.sample(event)\n",
        "    return event, w"
      ]
    },
    {
      "cell_type": "markdown",
      "metadata": {
        "id": "93d3mfgE0Cn0"
      },
      "source": [
        "\n",
        "**weighted_sample** samples an event from Bayesian Network that's consistent with the evidence **e** and returns the event and its weight, the likelihood that the event accords to the evidence. It takes in two parameters **bn** the Bayesian Network and **e** the evidence.\n",
        "\n",
        "The weight is obtained by multiplying **P(x<sub>i</sub> | parents(x<sub>i</sub>))** for each node in evidence. We set the values of **event = evidence** at the start of the function."
      ]
    },
    {
      "cell_type": "code",
      "execution_count": null,
      "metadata": {
        "id": "UrQUSIVm0Cn0"
      },
      "outputs": [],
      "source": [
        "weighted_sample(sprinkler, dict(Rain=True))"
      ]
    },
    {
      "cell_type": "code",
      "execution_count": null,
      "metadata": {
        "id": "byN7x9l00Cn0"
      },
      "outputs": [],
      "source": [
        "def likelihood_weighting(X, e, bn, N=10000):\n",
        "    \"\"\"Estimate the probability distribution of variable X given\n",
        "    evidence e in BayesNet bn.  [Figure 14.15]\n",
        "    >>> random.seed(1017)\n",
        "    >>> likelihood_weighting('Burglary', dict(JohnCalls=T, MaryCalls=T),\n",
        "    ...   burglary, 10000).show_approx()\n",
        "    'False: 0.702, True: 0.298'\n",
        "    \"\"\"\n",
        "    W = {x: 0 for x in bn.variable_values(X)}\n",
        "    for j in range(N):\n",
        "        sample, weight = weighted_sample(bn, e)  # boldface x, w in [Figure 14.15]\n",
        "        W[sample[X]] += weight\n",
        "    return ProbDist(X, W)"
      ]
    },
    {
      "cell_type": "markdown",
      "metadata": {
        "id": "3LbPwuP30Cn1"
      },
      "source": [
        "**likelihood_weighting** implements the algorithm to solve our inference problem. The code is similar to **rejection_sampling** but instead of adding one for each sample we add the weight obtained from **weighted_sampling**."
      ]
    },
    {
      "cell_type": "code",
      "execution_count": null,
      "metadata": {
        "id": "wHAkKo8m0Cn1"
      },
      "outputs": [],
      "source": [
        "likelihood_weighting('Cloudy', dict(Rain=True), sprinkler, 200).show_approx()"
      ]
    },
    {
      "cell_type": "markdown",
      "metadata": {
        "jp-MarkdownHeadingCollapsed": true,
        "id": "MLmRWg1Q0Cn1"
      },
      "source": [
        "### Gibbs Sampling\n",
        "\n",
        "In likelihood sampling, it is possible to obtain low weights in cases where the evidence variables reside at the bottom of the Bayesian Network. This can happen because influence only propagates downwards in likelihood sampling.\n",
        "\n",
        "Gibbs Sampling solves this. The implementation of **Figure 14.16** is provided in the function **gibbs_ask**"
      ]
    },
    {
      "cell_type": "code",
      "execution_count": null,
      "metadata": {
        "id": "ZpG7DgTo0Cn1"
      },
      "outputs": [],
      "source": [
        "psource(gibbs_ask)"
      ]
    },
    {
      "cell_type": "markdown",
      "metadata": {
        "id": "UH7UlVfF0Cn1"
      },
      "source": [
        "In **gibbs_ask** we initialize the non-evidence variables to random values. And then select non-evidence variables and sample it from **P(Variable | value in the current state of all remaining vars) ** repeatedly sample. In practice, we speed this up by using **markov_blanket_sample** instead. This works because terms not involving the variable get canceled in the calculation. The arguments for **gibbs_ask** are similar to **likelihood_weighting**"
      ]
    },
    {
      "cell_type": "code",
      "execution_count": null,
      "metadata": {
        "id": "Hv_yt9gW0Cn1"
      },
      "outputs": [],
      "source": [
        "gibbs_ask('Cloudy', dict(Rain=True), sprinkler, 200).show_approx()"
      ]
    },
    {
      "cell_type": "markdown",
      "metadata": {
        "id": "xXuuZ0Zw0Cn1"
      },
      "source": [
        "#### Runtime analysis\n",
        "Let's take a look at how much time each algorithm takes."
      ]
    },
    {
      "cell_type": "code",
      "execution_count": null,
      "metadata": {
        "id": "lRlT9vjP0Cn1"
      },
      "outputs": [],
      "source": [
        "%%timeit\n",
        "all_observations = [prior_sample(sprinkler) for x in range(1000)]\n",
        "rain_true = [observation for observation in all_observations if observation['Rain'] == True]\n",
        "len([observation for observation in rain_true if observation['Cloudy'] == True]) / len(rain_true)"
      ]
    },
    {
      "cell_type": "code",
      "execution_count": null,
      "metadata": {
        "id": "HTZReX9Q0Cn2"
      },
      "outputs": [],
      "source": [
        "%%timeit\n",
        "rejection_sampling('Cloudy', dict(Rain=True), sprinkler, 1000)"
      ]
    },
    {
      "cell_type": "code",
      "execution_count": null,
      "metadata": {
        "id": "6HM48ehA0Cn2"
      },
      "outputs": [],
      "source": [
        "%%timeit\n",
        "likelihood_weighting('Cloudy', dict(Rain=True), sprinkler, 200)"
      ]
    },
    {
      "cell_type": "code",
      "execution_count": null,
      "metadata": {
        "id": "pXRLzvAc0Cn2"
      },
      "outputs": [],
      "source": [
        "%%timeit\n",
        "gibbs_ask('Cloudy', dict(Rain=True), sprinkler, 200)"
      ]
    },
    {
      "cell_type": "markdown",
      "metadata": {
        "id": "zxgs1EEb0Cn2"
      },
      "source": [
        "As expected, all algorithms have a very similar runtime.\n",
        "However, rejection sampling would be a lot faster and more accurate when the probabiliy of finding data-points consistent with the required evidence is small.\n",
        "<br>\n",
        "Likelihood weighting is the fastest out of all as it doesn't involve rejecting samples, but also has a quite high variance."
      ]
    }
  ],
  "metadata": {
    "kernelspec": {
      "display_name": "Python 3 (ipykernel)",
      "language": "python",
      "name": "python3"
    },
    "language_info": {
      "codemirror_mode": {
        "name": "ipython",
        "version": 3
      },
      "file_extension": ".py",
      "mimetype": "text/x-python",
      "name": "python",
      "nbconvert_exporter": "python",
      "pygments_lexer": "ipython3",
      "version": "3.10.12"
    },
    "colab": {
      "provenance": []
    }
  },
  "nbformat": 4,
  "nbformat_minor": 0
}